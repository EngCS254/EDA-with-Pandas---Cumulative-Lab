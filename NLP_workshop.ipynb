{
  "nbformat": 4,
  "nbformat_minor": 0,
  "metadata": {
    "colab": {
      "provenance": [],
      "gpuType": "T4",
      "include_colab_link": true
    },
    "kernelspec": {
      "name": "python3",
      "display_name": "Python 3"
    },
    "language_info": {
      "name": "python"
    },
    "accelerator": "GPU",
    "widgets": {
      "application/vnd.jupyter.widget-state+json": {
        "12f11519b07a44fe969aa44584dca956": {
          "model_module": "@jupyter-widgets/controls",
          "model_name": "HBoxModel",
          "model_module_version": "1.5.0",
          "state": {
            "_dom_classes": [],
            "_model_module": "@jupyter-widgets/controls",
            "_model_module_version": "1.5.0",
            "_model_name": "HBoxModel",
            "_view_count": null,
            "_view_module": "@jupyter-widgets/controls",
            "_view_module_version": "1.5.0",
            "_view_name": "HBoxView",
            "box_style": "",
            "children": [
              "IPY_MODEL_bc7b342bd7804f1b99a819fc18a019dc",
              "IPY_MODEL_993885d6b775412dbba9c7cf0423216d",
              "IPY_MODEL_f834228abd964948b29d8ce716233a5c"
            ],
            "layout": "IPY_MODEL_2c84daaa5bcb4797927d139ce69a4da2"
          }
        },
        "bc7b342bd7804f1b99a819fc18a019dc": {
          "model_module": "@jupyter-widgets/controls",
          "model_name": "HTMLModel",
          "model_module_version": "1.5.0",
          "state": {
            "_dom_classes": [],
            "_model_module": "@jupyter-widgets/controls",
            "_model_module_version": "1.5.0",
            "_model_name": "HTMLModel",
            "_view_count": null,
            "_view_module": "@jupyter-widgets/controls",
            "_view_module_version": "1.5.0",
            "_view_name": "HTMLView",
            "description": "",
            "description_tooltip": null,
            "layout": "IPY_MODEL_31fdb7306b4c46098db2e18f583ae044",
            "placeholder": "​",
            "style": "IPY_MODEL_7d6deb73559248558ea2bf0b5b1f870b",
            "value": "100%"
          }
        },
        "993885d6b775412dbba9c7cf0423216d": {
          "model_module": "@jupyter-widgets/controls",
          "model_name": "FloatProgressModel",
          "model_module_version": "1.5.0",
          "state": {
            "_dom_classes": [],
            "_model_module": "@jupyter-widgets/controls",
            "_model_module_version": "1.5.0",
            "_model_name": "FloatProgressModel",
            "_view_count": null,
            "_view_module": "@jupyter-widgets/controls",
            "_view_module_version": "1.5.0",
            "_view_name": "ProgressView",
            "bar_style": "success",
            "description": "",
            "description_tooltip": null,
            "layout": "IPY_MODEL_22c0b3d2f3474bccbec6511f9817c06d",
            "max": 3,
            "min": 0,
            "orientation": "horizontal",
            "style": "IPY_MODEL_121de34ad68342ca8da9eaf3f2c79571",
            "value": 3
          }
        },
        "f834228abd964948b29d8ce716233a5c": {
          "model_module": "@jupyter-widgets/controls",
          "model_name": "HTMLModel",
          "model_module_version": "1.5.0",
          "state": {
            "_dom_classes": [],
            "_model_module": "@jupyter-widgets/controls",
            "_model_module_version": "1.5.0",
            "_model_name": "HTMLModel",
            "_view_count": null,
            "_view_module": "@jupyter-widgets/controls",
            "_view_module_version": "1.5.0",
            "_view_name": "HTMLView",
            "description": "",
            "description_tooltip": null,
            "layout": "IPY_MODEL_e40111fc82594b548382fa1ba0dbc38c",
            "placeholder": "​",
            "style": "IPY_MODEL_5c2332dd50e543bfb859ee676223db51",
            "value": " 3/3 [00:00&lt;00:00, 140.51it/s]"
          }
        },
        "2c84daaa5bcb4797927d139ce69a4da2": {
          "model_module": "@jupyter-widgets/base",
          "model_name": "LayoutModel",
          "model_module_version": "1.2.0",
          "state": {
            "_model_module": "@jupyter-widgets/base",
            "_model_module_version": "1.2.0",
            "_model_name": "LayoutModel",
            "_view_count": null,
            "_view_module": "@jupyter-widgets/base",
            "_view_module_version": "1.2.0",
            "_view_name": "LayoutView",
            "align_content": null,
            "align_items": null,
            "align_self": null,
            "border": null,
            "bottom": null,
            "display": null,
            "flex": null,
            "flex_flow": null,
            "grid_area": null,
            "grid_auto_columns": null,
            "grid_auto_flow": null,
            "grid_auto_rows": null,
            "grid_column": null,
            "grid_gap": null,
            "grid_row": null,
            "grid_template_areas": null,
            "grid_template_columns": null,
            "grid_template_rows": null,
            "height": null,
            "justify_content": null,
            "justify_items": null,
            "left": null,
            "margin": null,
            "max_height": null,
            "max_width": null,
            "min_height": null,
            "min_width": null,
            "object_fit": null,
            "object_position": null,
            "order": null,
            "overflow": null,
            "overflow_x": null,
            "overflow_y": null,
            "padding": null,
            "right": null,
            "top": null,
            "visibility": null,
            "width": null
          }
        },
        "31fdb7306b4c46098db2e18f583ae044": {
          "model_module": "@jupyter-widgets/base",
          "model_name": "LayoutModel",
          "model_module_version": "1.2.0",
          "state": {
            "_model_module": "@jupyter-widgets/base",
            "_model_module_version": "1.2.0",
            "_model_name": "LayoutModel",
            "_view_count": null,
            "_view_module": "@jupyter-widgets/base",
            "_view_module_version": "1.2.0",
            "_view_name": "LayoutView",
            "align_content": null,
            "align_items": null,
            "align_self": null,
            "border": null,
            "bottom": null,
            "display": null,
            "flex": null,
            "flex_flow": null,
            "grid_area": null,
            "grid_auto_columns": null,
            "grid_auto_flow": null,
            "grid_auto_rows": null,
            "grid_column": null,
            "grid_gap": null,
            "grid_row": null,
            "grid_template_areas": null,
            "grid_template_columns": null,
            "grid_template_rows": null,
            "height": null,
            "justify_content": null,
            "justify_items": null,
            "left": null,
            "margin": null,
            "max_height": null,
            "max_width": null,
            "min_height": null,
            "min_width": null,
            "object_fit": null,
            "object_position": null,
            "order": null,
            "overflow": null,
            "overflow_x": null,
            "overflow_y": null,
            "padding": null,
            "right": null,
            "top": null,
            "visibility": null,
            "width": null
          }
        },
        "7d6deb73559248558ea2bf0b5b1f870b": {
          "model_module": "@jupyter-widgets/controls",
          "model_name": "DescriptionStyleModel",
          "model_module_version": "1.5.0",
          "state": {
            "_model_module": "@jupyter-widgets/controls",
            "_model_module_version": "1.5.0",
            "_model_name": "DescriptionStyleModel",
            "_view_count": null,
            "_view_module": "@jupyter-widgets/base",
            "_view_module_version": "1.2.0",
            "_view_name": "StyleView",
            "description_width": ""
          }
        },
        "22c0b3d2f3474bccbec6511f9817c06d": {
          "model_module": "@jupyter-widgets/base",
          "model_name": "LayoutModel",
          "model_module_version": "1.2.0",
          "state": {
            "_model_module": "@jupyter-widgets/base",
            "_model_module_version": "1.2.0",
            "_model_name": "LayoutModel",
            "_view_count": null,
            "_view_module": "@jupyter-widgets/base",
            "_view_module_version": "1.2.0",
            "_view_name": "LayoutView",
            "align_content": null,
            "align_items": null,
            "align_self": null,
            "border": null,
            "bottom": null,
            "display": null,
            "flex": null,
            "flex_flow": null,
            "grid_area": null,
            "grid_auto_columns": null,
            "grid_auto_flow": null,
            "grid_auto_rows": null,
            "grid_column": null,
            "grid_gap": null,
            "grid_row": null,
            "grid_template_areas": null,
            "grid_template_columns": null,
            "grid_template_rows": null,
            "height": null,
            "justify_content": null,
            "justify_items": null,
            "left": null,
            "margin": null,
            "max_height": null,
            "max_width": null,
            "min_height": null,
            "min_width": null,
            "object_fit": null,
            "object_position": null,
            "order": null,
            "overflow": null,
            "overflow_x": null,
            "overflow_y": null,
            "padding": null,
            "right": null,
            "top": null,
            "visibility": null,
            "width": null
          }
        },
        "121de34ad68342ca8da9eaf3f2c79571": {
          "model_module": "@jupyter-widgets/controls",
          "model_name": "ProgressStyleModel",
          "model_module_version": "1.5.0",
          "state": {
            "_model_module": "@jupyter-widgets/controls",
            "_model_module_version": "1.5.0",
            "_model_name": "ProgressStyleModel",
            "_view_count": null,
            "_view_module": "@jupyter-widgets/base",
            "_view_module_version": "1.2.0",
            "_view_name": "StyleView",
            "bar_color": null,
            "description_width": ""
          }
        },
        "e40111fc82594b548382fa1ba0dbc38c": {
          "model_module": "@jupyter-widgets/base",
          "model_name": "LayoutModel",
          "model_module_version": "1.2.0",
          "state": {
            "_model_module": "@jupyter-widgets/base",
            "_model_module_version": "1.2.0",
            "_model_name": "LayoutModel",
            "_view_count": null,
            "_view_module": "@jupyter-widgets/base",
            "_view_module_version": "1.2.0",
            "_view_name": "LayoutView",
            "align_content": null,
            "align_items": null,
            "align_self": null,
            "border": null,
            "bottom": null,
            "display": null,
            "flex": null,
            "flex_flow": null,
            "grid_area": null,
            "grid_auto_columns": null,
            "grid_auto_flow": null,
            "grid_auto_rows": null,
            "grid_column": null,
            "grid_gap": null,
            "grid_row": null,
            "grid_template_areas": null,
            "grid_template_columns": null,
            "grid_template_rows": null,
            "height": null,
            "justify_content": null,
            "justify_items": null,
            "left": null,
            "margin": null,
            "max_height": null,
            "max_width": null,
            "min_height": null,
            "min_width": null,
            "object_fit": null,
            "object_position": null,
            "order": null,
            "overflow": null,
            "overflow_x": null,
            "overflow_y": null,
            "padding": null,
            "right": null,
            "top": null,
            "visibility": null,
            "width": null
          }
        },
        "5c2332dd50e543bfb859ee676223db51": {
          "model_module": "@jupyter-widgets/controls",
          "model_name": "DescriptionStyleModel",
          "model_module_version": "1.5.0",
          "state": {
            "_model_module": "@jupyter-widgets/controls",
            "_model_module_version": "1.5.0",
            "_model_name": "DescriptionStyleModel",
            "_view_count": null,
            "_view_module": "@jupyter-widgets/base",
            "_view_module_version": "1.2.0",
            "_view_name": "StyleView",
            "description_width": ""
          }
        },
        "b4608c1594834dfea80b2a0490c38559": {
          "model_module": "@jupyter-widgets/controls",
          "model_name": "HBoxModel",
          "model_module_version": "1.5.0",
          "state": {
            "_dom_classes": [],
            "_model_module": "@jupyter-widgets/controls",
            "_model_module_version": "1.5.0",
            "_model_name": "HBoxModel",
            "_view_count": null,
            "_view_module": "@jupyter-widgets/controls",
            "_view_module_version": "1.5.0",
            "_view_name": "HBoxView",
            "box_style": "",
            "children": [
              "IPY_MODEL_638eb4b54d5248d8a8519ba4353f61db",
              "IPY_MODEL_b7eb24aa6eaf4e289154d2d274853ecc",
              "IPY_MODEL_5687072d6558461fa8bb4bf3659b9321"
            ],
            "layout": "IPY_MODEL_38a732922ec84097b86aa8c441da01ca"
          }
        },
        "638eb4b54d5248d8a8519ba4353f61db": {
          "model_module": "@jupyter-widgets/controls",
          "model_name": "HTMLModel",
          "model_module_version": "1.5.0",
          "state": {
            "_dom_classes": [],
            "_model_module": "@jupyter-widgets/controls",
            "_model_module_version": "1.5.0",
            "_model_name": "HTMLModel",
            "_view_count": null,
            "_view_module": "@jupyter-widgets/controls",
            "_view_module_version": "1.5.0",
            "_view_name": "HTMLView",
            "description": "",
            "description_tooltip": null,
            "layout": "IPY_MODEL_2044ed6b228e43f89ebaf04d51c3e3e0",
            "placeholder": "​",
            "style": "IPY_MODEL_9503bc614f994f68a4732b6219192a77",
            "value": "Downloading (…)lve/main/config.json: 100%"
          }
        },
        "b7eb24aa6eaf4e289154d2d274853ecc": {
          "model_module": "@jupyter-widgets/controls",
          "model_name": "FloatProgressModel",
          "model_module_version": "1.5.0",
          "state": {
            "_dom_classes": [],
            "_model_module": "@jupyter-widgets/controls",
            "_model_module_version": "1.5.0",
            "_model_name": "FloatProgressModel",
            "_view_count": null,
            "_view_module": "@jupyter-widgets/controls",
            "_view_module_version": "1.5.0",
            "_view_name": "ProgressView",
            "bar_style": "success",
            "description": "",
            "description_tooltip": null,
            "layout": "IPY_MODEL_3a8d4cdbc550469981ca0e1596dc1630",
            "max": 665,
            "min": 0,
            "orientation": "horizontal",
            "style": "IPY_MODEL_2694cb6805224d43a9236a8773153f20",
            "value": 665
          }
        },
        "5687072d6558461fa8bb4bf3659b9321": {
          "model_module": "@jupyter-widgets/controls",
          "model_name": "HTMLModel",
          "model_module_version": "1.5.0",
          "state": {
            "_dom_classes": [],
            "_model_module": "@jupyter-widgets/controls",
            "_model_module_version": "1.5.0",
            "_model_name": "HTMLModel",
            "_view_count": null,
            "_view_module": "@jupyter-widgets/controls",
            "_view_module_version": "1.5.0",
            "_view_name": "HTMLView",
            "description": "",
            "description_tooltip": null,
            "layout": "IPY_MODEL_e93728adfb0044dbb2f168cfbf471096",
            "placeholder": "​",
            "style": "IPY_MODEL_48f227b980614ed186769abd80ab7bec",
            "value": " 665/665 [00:00&lt;00:00, 26.3kB/s]"
          }
        },
        "38a732922ec84097b86aa8c441da01ca": {
          "model_module": "@jupyter-widgets/base",
          "model_name": "LayoutModel",
          "model_module_version": "1.2.0",
          "state": {
            "_model_module": "@jupyter-widgets/base",
            "_model_module_version": "1.2.0",
            "_model_name": "LayoutModel",
            "_view_count": null,
            "_view_module": "@jupyter-widgets/base",
            "_view_module_version": "1.2.0",
            "_view_name": "LayoutView",
            "align_content": null,
            "align_items": null,
            "align_self": null,
            "border": null,
            "bottom": null,
            "display": null,
            "flex": null,
            "flex_flow": null,
            "grid_area": null,
            "grid_auto_columns": null,
            "grid_auto_flow": null,
            "grid_auto_rows": null,
            "grid_column": null,
            "grid_gap": null,
            "grid_row": null,
            "grid_template_areas": null,
            "grid_template_columns": null,
            "grid_template_rows": null,
            "height": null,
            "justify_content": null,
            "justify_items": null,
            "left": null,
            "margin": null,
            "max_height": null,
            "max_width": null,
            "min_height": null,
            "min_width": null,
            "object_fit": null,
            "object_position": null,
            "order": null,
            "overflow": null,
            "overflow_x": null,
            "overflow_y": null,
            "padding": null,
            "right": null,
            "top": null,
            "visibility": null,
            "width": null
          }
        },
        "2044ed6b228e43f89ebaf04d51c3e3e0": {
          "model_module": "@jupyter-widgets/base",
          "model_name": "LayoutModel",
          "model_module_version": "1.2.0",
          "state": {
            "_model_module": "@jupyter-widgets/base",
            "_model_module_version": "1.2.0",
            "_model_name": "LayoutModel",
            "_view_count": null,
            "_view_module": "@jupyter-widgets/base",
            "_view_module_version": "1.2.0",
            "_view_name": "LayoutView",
            "align_content": null,
            "align_items": null,
            "align_self": null,
            "border": null,
            "bottom": null,
            "display": null,
            "flex": null,
            "flex_flow": null,
            "grid_area": null,
            "grid_auto_columns": null,
            "grid_auto_flow": null,
            "grid_auto_rows": null,
            "grid_column": null,
            "grid_gap": null,
            "grid_row": null,
            "grid_template_areas": null,
            "grid_template_columns": null,
            "grid_template_rows": null,
            "height": null,
            "justify_content": null,
            "justify_items": null,
            "left": null,
            "margin": null,
            "max_height": null,
            "max_width": null,
            "min_height": null,
            "min_width": null,
            "object_fit": null,
            "object_position": null,
            "order": null,
            "overflow": null,
            "overflow_x": null,
            "overflow_y": null,
            "padding": null,
            "right": null,
            "top": null,
            "visibility": null,
            "width": null
          }
        },
        "9503bc614f994f68a4732b6219192a77": {
          "model_module": "@jupyter-widgets/controls",
          "model_name": "DescriptionStyleModel",
          "model_module_version": "1.5.0",
          "state": {
            "_model_module": "@jupyter-widgets/controls",
            "_model_module_version": "1.5.0",
            "_model_name": "DescriptionStyleModel",
            "_view_count": null,
            "_view_module": "@jupyter-widgets/base",
            "_view_module_version": "1.2.0",
            "_view_name": "StyleView",
            "description_width": ""
          }
        },
        "3a8d4cdbc550469981ca0e1596dc1630": {
          "model_module": "@jupyter-widgets/base",
          "model_name": "LayoutModel",
          "model_module_version": "1.2.0",
          "state": {
            "_model_module": "@jupyter-widgets/base",
            "_model_module_version": "1.2.0",
            "_model_name": "LayoutModel",
            "_view_count": null,
            "_view_module": "@jupyter-widgets/base",
            "_view_module_version": "1.2.0",
            "_view_name": "LayoutView",
            "align_content": null,
            "align_items": null,
            "align_self": null,
            "border": null,
            "bottom": null,
            "display": null,
            "flex": null,
            "flex_flow": null,
            "grid_area": null,
            "grid_auto_columns": null,
            "grid_auto_flow": null,
            "grid_auto_rows": null,
            "grid_column": null,
            "grid_gap": null,
            "grid_row": null,
            "grid_template_areas": null,
            "grid_template_columns": null,
            "grid_template_rows": null,
            "height": null,
            "justify_content": null,
            "justify_items": null,
            "left": null,
            "margin": null,
            "max_height": null,
            "max_width": null,
            "min_height": null,
            "min_width": null,
            "object_fit": null,
            "object_position": null,
            "order": null,
            "overflow": null,
            "overflow_x": null,
            "overflow_y": null,
            "padding": null,
            "right": null,
            "top": null,
            "visibility": null,
            "width": null
          }
        },
        "2694cb6805224d43a9236a8773153f20": {
          "model_module": "@jupyter-widgets/controls",
          "model_name": "ProgressStyleModel",
          "model_module_version": "1.5.0",
          "state": {
            "_model_module": "@jupyter-widgets/controls",
            "_model_module_version": "1.5.0",
            "_model_name": "ProgressStyleModel",
            "_view_count": null,
            "_view_module": "@jupyter-widgets/base",
            "_view_module_version": "1.2.0",
            "_view_name": "StyleView",
            "bar_color": null,
            "description_width": ""
          }
        },
        "e93728adfb0044dbb2f168cfbf471096": {
          "model_module": "@jupyter-widgets/base",
          "model_name": "LayoutModel",
          "model_module_version": "1.2.0",
          "state": {
            "_model_module": "@jupyter-widgets/base",
            "_model_module_version": "1.2.0",
            "_model_name": "LayoutModel",
            "_view_count": null,
            "_view_module": "@jupyter-widgets/base",
            "_view_module_version": "1.2.0",
            "_view_name": "LayoutView",
            "align_content": null,
            "align_items": null,
            "align_self": null,
            "border": null,
            "bottom": null,
            "display": null,
            "flex": null,
            "flex_flow": null,
            "grid_area": null,
            "grid_auto_columns": null,
            "grid_auto_flow": null,
            "grid_auto_rows": null,
            "grid_column": null,
            "grid_gap": null,
            "grid_row": null,
            "grid_template_areas": null,
            "grid_template_columns": null,
            "grid_template_rows": null,
            "height": null,
            "justify_content": null,
            "justify_items": null,
            "left": null,
            "margin": null,
            "max_height": null,
            "max_width": null,
            "min_height": null,
            "min_width": null,
            "object_fit": null,
            "object_position": null,
            "order": null,
            "overflow": null,
            "overflow_x": null,
            "overflow_y": null,
            "padding": null,
            "right": null,
            "top": null,
            "visibility": null,
            "width": null
          }
        },
        "48f227b980614ed186769abd80ab7bec": {
          "model_module": "@jupyter-widgets/controls",
          "model_name": "DescriptionStyleModel",
          "model_module_version": "1.5.0",
          "state": {
            "_model_module": "@jupyter-widgets/controls",
            "_model_module_version": "1.5.0",
            "_model_name": "DescriptionStyleModel",
            "_view_count": null,
            "_view_module": "@jupyter-widgets/base",
            "_view_module_version": "1.2.0",
            "_view_name": "StyleView",
            "description_width": ""
          }
        }
      }
    }
  },
  "cells": [
    {
      "cell_type": "markdown",
      "metadata": {
        "id": "view-in-github",
        "colab_type": "text"
      },
      "source": [
        "<a href=\"https://colab.research.google.com/github/EngCS254/EDA-with-Pandas---Cumulative-Lab/blob/master/NLP_workshop.ipynb\" target=\"_parent\"><img src=\"https://colab.research.google.com/assets/colab-badge.svg\" alt=\"Open In Colab\"/></a>"
      ]
    },
    {
      "cell_type": "markdown",
      "source": [
        "# Step-by-Step Natural Language Processing Workshop: From Data to Deployment"
      ],
      "metadata": {
        "id": "Vw2Glz1lxRRn"
      }
    },
    {
      "cell_type": "markdown",
      "source": [
        "## What we are going to cover:\n",
        "\n",
        "1. Introduction to Generative AI\n",
        "2. Exploring Foundation models\n",
        "3. Unpacking Transformers and Attention Mechanisms\n",
        "4. Mastering the Fine Tuning of LLMs\n"
      ],
      "metadata": {
        "id": "opq9UpQExXyg"
      }
    },
    {
      "cell_type": "markdown",
      "source": [
        "# Generative AI\n",
        "\n",
        "![link text](https://text-machine-lab.github.io/blog/assets/images/gen_photo_crop.png)\n",
        "\n",
        "* a type of machine learning model that aims to learn the underlying probability distribution of the data in order to generate new, similar data samples.\n",
        "\n",
        "**Examples of applications:**\n",
        "\n",
        "* ChatGPT\n",
        "* BARD\n",
        "\n",
        "* [DALL.E](https://labs.openai.com/)\n",
        "* [Midjourney](https://www.midjourney.com/home/?callbackUrl=%2Fapp%2F)\n",
        "\n",
        "**Types of generative models**:\n",
        "\n",
        "* Transformer-based generative model\n",
        "* Diffusion models\n",
        "* GANs"
      ],
      "metadata": {
        "id": "jJNxb2BeEo1Y"
      }
    },
    {
      "cell_type": "markdown",
      "source": [
        "# What are foundation models?\n",
        "\n",
        "* Foundation models refer to large-scale models, often trained on massive datasets, that serve as a foundational base for a variety of applications\n",
        "\n",
        "**Examples of foundation models:**\n",
        "\n",
        "| Foundation model and company | Function                                                                                                         | Aoplications that use them |\n",
        "|------------------------------|------------------------------------------------------------------------------------------------------------------|----------------------------|\n",
        "| GPT-4 by OpenAI              | Answer complex questions, summarise information                                                                  | Bing Chat by Microsoft     |\n",
        "|                              | Provide answers and advice, summarise notes, generate written content                                            | ChatGPT by Open AI         |\n",
        "| PaLM 2                       | Provide an AI chat service described as experimental and conversational                                          | Bard by Google             |\n",
        "| BERT by Google               | Answer questions, recognise entities, extracting semantic relations from text etc., using biomedical text mining | BioBERT                    |\n",
        "| BLOOM by Huggingface         | Generate text in 46 natural languages and 13 programming languages                                               |                            |\n",
        "| Claude by Anthropic          | Provide a wide variety of conversational and text-processing tasks                                               |                            |"
      ],
      "metadata": {
        "id": "PBLkF_YgOmyR"
      }
    },
    {
      "cell_type": "markdown",
      "source": [
        "# Unpacking transformers and attention mechanism: Build a tiny language model\n",
        "\n",
        "![link text](https://i.stack.imgur.com/eAKQu.png)\n",
        "\n",
        "However, language model just have decoders so we have:\n",
        "\n",
        "![image.png](data:image/png;base64,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)"
      ],
      "metadata": {
        "id": "0825YC4qREdR"
      }
    },
    {
      "cell_type": "markdown",
      "source": [
        "### Start with data\n",
        "\n",
        "To train a language model, we need a large block of text."
      ],
      "metadata": {
        "id": "9Au0d7ifTadG"
      }
    },
    {
      "cell_type": "code",
      "execution_count": null,
      "metadata": {
        "id": "X08yuxQVxFW7"
      },
      "outputs": [],
      "source": [
        "corpus = \"A child who travels is wiser, and more knowledgeable than the mother.A slow but steady walker reached Luoland.Water drank to clear thirst does not kill.The one who climbs has to come down.\""
      ]
    },
    {
      "cell_type": "code",
      "source": [
        "corpus"
      ],
      "metadata": {
        "colab": {
          "base_uri": "https://localhost:8080/",
          "height": 52
        },
        "id": "prKqo3BdXe-K",
        "outputId": "ac5b348f-7716-4bfe-c52b-0a32787e6834"
      },
      "execution_count": null,
      "outputs": [
        {
          "output_type": "execute_result",
          "data": {
            "text/plain": [
              "'A child who travels is wiser, and more knowledgeable than the mother.A slow but steady walker reached Luoland.Water drank to clear thirst does not kill.The one who climbs has to come down.'"
            ],
            "application/vnd.google.colaboratory.intrinsic+json": {
              "type": "string"
            }
          },
          "metadata": {},
          "execution_count": 116
        }
      ]
    },
    {
      "cell_type": "markdown",
      "source": [
        "To create a dataset, one can break up the corpus to individual sentences."
      ],
      "metadata": {
        "id": "5M9zRgqLUQvM"
      }
    },
    {
      "cell_type": "code",
      "source": [
        "# Step 1: Split the corpus into sentences and ensure to keep the full stops.\n",
        "sentences = [s for s in corpus.split('.') if s.strip()]\n",
        "print(sentences)"
      ],
      "metadata": {
        "colab": {
          "base_uri": "https://localhost:8080/"
        },
        "id": "b-KfiwQFUdBF",
        "outputId": "e5db40fc-94db-4bf0-e233-3f7164a6ec4d"
      },
      "execution_count": null,
      "outputs": [
        {
          "output_type": "stream",
          "name": "stdout",
          "text": [
            "['A child who travels is wiser, and more knowledgeable than the mother', 'A slow but steady walker reached Luoland', 'Water drank to clear thirst does not kill', 'The one who climbs has to come down']\n"
          ]
        }
      ]
    },
    {
      "cell_type": "code",
      "source": [
        "# Step 2: Tokenize each sentence and treat the full stop as its own token.\n",
        "tokenized_sentences = []\n",
        "padding_token = 'PAD'\n",
        "\n",
        "for sentence in sentences:\n",
        "    # Tokenizing by splitting on spaces and treating the full stop as a separate token.\n",
        "    tokens = [segment for segment in sentence.split(' ')]\n",
        "    tokens.append('.')\n",
        "    tokenized_sentences.append(tokens)\n",
        "\n",
        "# Finding the maximum sentence length for padding\n",
        "max_length = max(len(sentence) for sentence in tokenized_sentences)\n",
        "\n",
        "# Step 3: Padding each sentence to the maximum length\n",
        "for sentence in tokenized_sentences:\n",
        "    while len(sentence) < max_length:\n",
        "        sentence.append(padding_token)\n",
        "\n",
        "print(tokenized_sentences)"
      ],
      "metadata": {
        "colab": {
          "base_uri": "https://localhost:8080/"
        },
        "id": "Js8hBiodVwRO",
        "outputId": "a12d38aa-152c-4734-807c-b365845606c3"
      },
      "execution_count": null,
      "outputs": [
        {
          "output_type": "stream",
          "name": "stdout",
          "text": [
            "[['A', 'child', 'who', 'travels', 'is', 'wiser,', 'and', 'more', 'knowledgeable', 'than', 'the', 'mother', '.'], ['A', 'slow', 'but', 'steady', 'walker', 'reached', 'Luoland', '.', 'PAD', 'PAD', 'PAD', 'PAD', 'PAD'], ['Water', 'drank', 'to', 'clear', 'thirst', 'does', 'not', 'kill', '.', 'PAD', 'PAD', 'PAD', 'PAD'], ['The', 'one', 'who', 'climbs', 'has', 'to', 'come', 'down', '.', 'PAD', 'PAD', 'PAD', 'PAD']]\n"
          ]
        }
      ]
    },
    {
      "cell_type": "code",
      "source": [
        "vocab_dict = {0:'PAD'}\n",
        "\n",
        "words = set([token for sentence in tokenized_sentences for token in sentence])\n",
        "ind = 0\n",
        "for i in words:\n",
        "  ind +=1\n",
        "  vocab_dict[ind] = i\n",
        "\n",
        "print(vocab_dict)\n",
        "print(len(vocab_dict))"
      ],
      "metadata": {
        "colab": {
          "base_uri": "https://localhost:8080/"
        },
        "id": "mOtzqs71UlgY",
        "outputId": "3638f6a1-c52e-43be-8c34-e151f21e8c58"
      },
      "execution_count": null,
      "outputs": [
        {
          "output_type": "stream",
          "name": "stdout",
          "text": [
            "{0: 'PAD', 1: 'mother', 2: 'come', 3: '.', 4: 'kill', 5: 'walker', 6: 'travels', 7: 'has', 8: 'the', 9: 'who', 10: 'than', 11: 'Water', 12: 'climbs', 13: 'wiser,', 14: 'The', 15: 'one', 16: 'and', 17: 'is', 18: 'clear', 19: 'not', 20: 'down', 21: 'child', 22: 'knowledgeable', 23: 'A', 24: 'more', 25: 'steady', 26: 'thirst', 27: 'does', 28: 'to', 29: 'but', 30: 'drank', 31: 'PAD', 32: 'slow', 33: 'reached', 34: 'Luoland'}\n",
            "35\n"
          ]
        }
      ]
    },
    {
      "cell_type": "code",
      "source": [
        "keys = list(vocab_dict.keys())\n",
        "values = list(vocab_dict.values())\n",
        "tokens = [keys[values.index(i)] for i in tokenized_sentences[0]]"
      ],
      "metadata": {
        "id": "2c8uNJPcaPUh"
      },
      "execution_count": null,
      "outputs": []
    },
    {
      "cell_type": "code",
      "source": [
        "print('Initial:', tokenized_sentences[0], 'Final tokens:', tokens, 'length:', len(tokens), sep='\\n')"
      ],
      "metadata": {
        "colab": {
          "base_uri": "https://localhost:8080/"
        },
        "id": "3Etkji-7-ius",
        "outputId": "86b56271-8048-4222-d9f1-ea19ef18b4a0"
      },
      "execution_count": null,
      "outputs": [
        {
          "output_type": "stream",
          "name": "stdout",
          "text": [
            "Initial:\n",
            "['A', 'child', 'who', 'travels', 'is', 'wiser,', 'and', 'more', 'knowledgeable', 'than', 'the', 'mother', '.']\n",
            "Final tokens:\n",
            "[23, 21, 9, 6, 17, 13, 16, 24, 22, 10, 8, 1, 3]\n",
            "length:\n",
            "13\n"
          ]
        }
      ]
    },
    {
      "cell_type": "markdown",
      "metadata": {
        "id": "zMu4_kC3maEh"
      },
      "source": [
        "## Input embedding on data\n",
        "\n",
        "Utilizing embedding module of PyTorch, each of the 35 words in our vocabulary gets a vector that represents it. This word embedding will be fed into the model.\n",
        "\n",
        "During training the word embedding will be updated along with the weights of the model. This embedding method is known as Task-based learning."
      ]
    },
    {
      "cell_type": "code",
      "metadata": {
        "id": "pFcgoUryiBZF",
        "colab": {
          "base_uri": "https://localhost:8080/"
        },
        "outputId": "19bc310f-dd63-4dfe-abc3-6d91e8d49de1"
      },
      "source": [
        "import torch\n",
        "from torch import nn\n",
        "import numpy as np\n",
        "import matplotlib.pyplot as plt\n",
        "import seaborn as sns\n",
        "import torch.nn.functional as F\n",
        "\n",
        "torch.manual_seed(2)"
      ],
      "execution_count": null,
      "outputs": [
        {
          "output_type": "execute_result",
          "data": {
            "text/plain": [
              "<torch._C.Generator at 0x7b1113985530>"
            ]
          },
          "metadata": {},
          "execution_count": 76
        }
      ]
    },
    {
      "cell_type": "code",
      "source": [
        "?nn.Embedding"
      ],
      "metadata": {
        "id": "Smq3RspSZ44V"
      },
      "execution_count": null,
      "outputs": []
    },
    {
      "cell_type": "code",
      "metadata": {
        "colab": {
          "base_uri": "https://localhost:8080/"
        },
        "id": "6OQh4ncalD0a",
        "outputId": "8a7cca94-f2fd-4ef2-d891-3d6878f5d3b4"
      },
      "source": [
        "embedding = nn.Embedding(35, 3, padding_idx=0)\n",
        "input = torch.LongTensor([tokens])\n",
        "input_embed = embedding(input)\n",
        "input_embed"
      ],
      "execution_count": null,
      "outputs": [
        {
          "output_type": "execute_result",
          "data": {
            "text/plain": [
              "tensor([[[ 1.2780,  0.1453,  0.2311],\n",
              "         [ 0.7078,  2.2181,  0.5232],\n",
              "         [ 0.0418, -0.2516,  0.8599],\n",
              "         [-0.7581,  1.0783,  0.8008],\n",
              "         [ 1.1914, -0.8140, -0.7360],\n",
              "         [ 0.3211, -0.8798, -0.6011],\n",
              "         [ 0.0780,  0.5258, -0.4880],\n",
              "         [ 0.0566,  0.4263,  0.5750],\n",
              "         [ 0.3466, -0.1973, -1.0546],\n",
              "         [-0.3097, -0.3957, -0.2234],\n",
              "         [ 0.6105,  1.3347, -0.2316],\n",
              "         [-1.2345, -0.0431, -1.6047],\n",
              "         [-1.4036, -0.7279, -0.5594]]], grad_fn=<EmbeddingBackward0>)"
            ]
          },
          "metadata": {},
          "execution_count": 119
        }
      ]
    },
    {
      "cell_type": "code",
      "metadata": {
        "colab": {
          "base_uri": "https://localhost:8080/"
        },
        "id": "4AAvVWZZLT_6",
        "outputId": "1b4c75f1-c29c-472a-e5fb-3ee118e50674"
      },
      "source": [
        "input_embed.shape"
      ],
      "execution_count": null,
      "outputs": [
        {
          "output_type": "execute_result",
          "data": {
            "text/plain": [
              "torch.Size([1, 13, 3])"
            ]
          },
          "metadata": {},
          "execution_count": 55
        }
      ]
    },
    {
      "cell_type": "markdown",
      "metadata": {
        "id": "cj_uWDp9roBv"
      },
      "source": [
        "## Positional encoding\n",
        "\n",
        "Positional encoding entail coming up with a position vector for each word in the sequence and concatenating it with the word vectors from the input embedding layer. To come up with the position vector, wave frequencies were utilised. The wave frequencies were gotten by the formula:\n",
        "\\begin{align}\n",
        "PE_{(pos,2i)} &= \\sin(\\frac{pos}{10000^{\\frac{2i}{d}}})\\\\\n",
        "PE_{(pos,2i+1)} &= \\cos(\\frac{pos}{10000^{\\frac{2i}{d}}})\n",
        "\\end{align}\n",
        "\n",
        "where $pos$ is the position of the word, i is the dimension in the vector and d the dimension of the vector.\n",
        "\n",
        "Both cosine and sine are used as this pair has a transformation matrix that can map $\\sin(pos)$ and $\\cos(pos)$ to $\\sin(pos+k)$ and $\\cos(pos+k)$. This mapping is crucial in attending to relative positions. From the paper [Attention Is All You Need](https://arxiv.org/pdf/1706.03762.pdf), the authors decided to use both sine and cosine as \"$PE_{pos+k}$can be represented as a linear function of $PE_{pos}$.\"\n",
        "\n",
        "To prove that $PE_{pos+k}$ can be represented as a linear function of $PE_{pos}$, we let M be a $2 \\times 2$ matrix such that when multiplied by our $\\sin(pos)$ and $\\cos(pos)$ pair results in $\\sin(pos+k)$ and $\\cos(pos+k)$:\n",
        "\\begin{align}\n",
        "\\begin{bmatrix}\n",
        "x_1 & x_2 \\\\\n",
        "x_3 & x_4\n",
        "\\end{bmatrix}\n",
        "\\begin{bmatrix}\n",
        "\\sin(\\lambda \\cdot pos)\\\\\n",
        "\\cos(\\lambda \\cdot pos)\n",
        "\\end{bmatrix} &= \\begin{bmatrix}\n",
        "\\sin(\\lambda (pos+k))\\\\\n",
        "\\cos(\\lambda (pos+k))\n",
        "\\end{bmatrix}\\\\\n",
        "\\begin{bmatrix}\n",
        "\\sin(\\lambda (pos+k))\\\\\n",
        "\\cos(\\lambda (pos+k))\n",
        "\\end{bmatrix} &= \\begin{bmatrix}\n",
        "\\sin(\\lambda \\cdot pos+\\lambda \\cdot k)\\\\\n",
        "\\cos(\\lambda \\cdot pos+\\lambda \\cdot k)\n",
        "\\end{bmatrix}\n",
        "\\end{align}\n",
        "Using the angle summation identity, we can express $PE_{pos+k}$ as:\n",
        "\\begin{align}\n",
        "\\begin{bmatrix}\n",
        "\\sin(\\lambda \\cdot pos+\\lambda \\cdot k)\\\\\n",
        "\\cos(\\lambda \\cdot pos+\\lambda \\cdot k)\n",
        "\\end{bmatrix} &= \\begin{bmatrix}\n",
        "\\sin(\\lambda \\cdot pos)\\cos(\\lambda  \\cdot k) + \\cos(\\lambda \\cdot pos)\\sin(\\lambda \\cdot k)\\\\\n",
        "\\cos(\\lambda \\cdot pos)\\cos(\\lambda \\cdot k) - \\sin(\\lambda \\cdot pos)\\sin(\\lambda \\cdot k)\n",
        "\\end{bmatrix}\n",
        "\\end{align}\n",
        "\n",
        "Solving for the elements in matrix M, we find:\n",
        "\\begin{align}\n",
        "\\begin{bmatrix}\n",
        "x_1 & x_2 \\\\\n",
        "x_3 & x_4\n",
        "\\end{bmatrix}\n",
        "\\begin{bmatrix}\n",
        "\\sin(\\lambda \\cdot pos)\\\\\n",
        "\\cos(\\lambda \\cdot pos)\n",
        "\\end{bmatrix} &= \\begin{bmatrix}\n",
        "\\sin(\\lambda \\cdot pos)\\cos(\\lambda \\cdot k) + \\cos(\\lambda \\cdot pos)\\sin(\\lambda \\cdot k)\\\\\n",
        "\\cos(\\lambda \\cdot pos)\\cos(\\lambda \\cdot k) - \\sin(\\lambda \\cdot pos)\\sin(\\lambda \\cdot k)\n",
        "\\end{bmatrix}\n",
        "\\end{align}\n",
        "where $x_1 = \\cos(\\lambda \\cdot k), x_2 = \\sin(\\lambda \\cdot k), x_3 = -\\sin(\\lambda \\cdot k), x_4 = \\cos(\\lambda \\cdot k)$. Therefore: $$ M = \\begin{bmatrix}\n",
        "\\cos(\\lambda \\cdot k) & \\sin(\\lambda \\cdot k)\\\\\n",
        "-\\sin(\\lambda \\cdot k) & \\cos(\\lambda \\cdot k)\n",
        "\\end{bmatrix}$$\n",
        "Thus $PE_{pos+k}$ can be represented as a linear function of $PE_{pos}$\n",
        "\n",
        "This transformation for any k, ensures that the model can attend to relative positions."
      ]
    },
    {
      "cell_type": "code",
      "metadata": {
        "id": "Nd57icXPrnA0"
      },
      "source": [
        "# Concatenating positional encoding\n",
        "seq_length=input_embed.shape[1]\n",
        "d = input_embed.shape[2]\n",
        "\n",
        "PE = np.empty((13, 3))\n",
        "for pos in range(seq_length):\n",
        "  for i in range(d):\n",
        "    if i%2==0:\n",
        "      PE[pos,i] = np.sin(pos/(10000)**(2*i/d))\n",
        "    else:\n",
        "      PE[pos,i] = np.cos(pos/(10000)**(2*i/d))\n"
      ],
      "execution_count": null,
      "outputs": []
    },
    {
      "cell_type": "code",
      "source": [
        "print(PE)"
      ],
      "metadata": {
        "colab": {
          "base_uri": "https://localhost:8080/"
        },
        "id": "ApviYEOeAub0",
        "outputId": "e7d378ff-9a22-4896-8db5-1ac3711c804f"
      },
      "execution_count": null,
      "outputs": [
        {
          "output_type": "stream",
          "name": "stdout",
          "text": [
            "[[ 0.00000000e+00  1.00000000e+00  0.00000000e+00]\n",
            " [ 8.41470985e-01  9.99997679e-01  4.64158883e-06]\n",
            " [ 9.09297427e-01  9.99990717e-01  9.28317767e-06]\n",
            " [ 1.41120008e-01  9.99979113e-01  1.39247665e-05]\n",
            " [-7.56802495e-01  9.99962868e-01  1.85663553e-05]\n",
            " [-9.58924275e-01  9.99941981e-01  2.32079442e-05]\n",
            " [-2.79415498e-01  9.99916453e-01  2.78495330e-05]\n",
            " [ 6.56986599e-01  9.99886283e-01  3.24911218e-05]\n",
            " [ 9.89358247e-01  9.99851473e-01  3.71327107e-05]\n",
            " [ 4.12118485e-01  9.99812022e-01  4.17742995e-05]\n",
            " [-5.44021111e-01  9.99767930e-01  4.64158883e-05]\n",
            " [-9.99990207e-01  9.99719197e-01  5.10574771e-05]\n",
            " [-5.36572918e-01  9.99665824e-01  5.56990660e-05]]\n"
          ]
        }
      ]
    },
    {
      "cell_type": "code",
      "metadata": {
        "id": "w1BKcT_SnH7X",
        "colab": {
          "base_uri": "https://localhost:8080/",
          "height": 346
        },
        "outputId": "ff56e412-f7b3-4c40-c9b5-c8ffc564e679"
      },
      "source": [
        "pos = np.arange(0,seq_length,1)\n",
        "fig, (ax1,ax2,ax3) = plt.subplots(1,3,figsize=(16,5))\n",
        "ax1.plot(pos,PE[:,0])\n",
        "ax2.plot(pos,PE[:,1])\n",
        "ax3.plot(pos,PE[:,2])\n",
        "plt.show()"
      ],
      "execution_count": null,
      "outputs": [
        {
          "output_type": "display_data",
          "data": {
            "text/plain": [
              "<Figure size 1600x500 with 3 Axes>"
            ],
            "image/png": "[encoded data removed]"
          },
          "metadata": {}
        }
      ]
    },
    {
      "cell_type": "markdown",
      "metadata": {
        "id": "ll2d6SinyS8E"
      },
      "source": [
        "With higher dimensions, $i$, the frequency of the wave gets much lower. After getting the positional embedding we, concatenate it with the input embedding."
      ]
    },
    {
      "cell_type": "code",
      "metadata": {
        "id": "4Xgox3udCXcB",
        "colab": {
          "base_uri": "https://localhost:8080/"
        },
        "outputId": "a813e1d8-b49c-491f-c0bf-8fe04dd36a44"
      },
      "source": [
        "input_embed = input_embed.detach().numpy()\n",
        "for i in range(input_embed.shape[0]):\n",
        "  input_embed[i] = input_embed[i] + PE\n",
        "\n",
        "input_embed"
      ],
      "execution_count": null,
      "outputs": [
        {
          "output_type": "execute_result",
          "data": {
            "text/plain": [
              "array([[[ 1.2779956 ,  1.1453377 ,  0.23105137],\n",
              "        [ 1.5492833 ,  3.2180734 ,  0.5231702 ],\n",
              "        [ 0.9510569 ,  0.7484154 ,  0.8598678 ],\n",
              "        [-0.61701113,  2.0782967 ,  0.8008145 ],\n",
              "        [ 0.43456656,  0.18595523, -0.73597425],\n",
              "        [-0.63782126,  0.12015615, -0.60111886],\n",
              "        [-0.20139162,  1.5257252 , -0.48796389],\n",
              "        [ 0.71360844,  1.4261824 ,  0.57503754],\n",
              "        [ 1.336005  ,  0.80252004, -1.0545518 ],\n",
              "        [ 0.10239171,  0.60410154, -0.22332415],\n",
              "        [ 0.06644537,  2.3345058 , -0.2315779 ],\n",
              "        [-2.234535  ,  0.95665175, -1.6046159 ],\n",
              "        [-1.9401801 ,  0.2717845 , -0.5593745 ]]], dtype=float32)"
            ]
          },
          "metadata": {},
          "execution_count": 124
        }
      ]
    },
    {
      "cell_type": "markdown",
      "metadata": {
        "id": "t8mIJ8oYRgWu"
      },
      "source": [
        "### Attention head\n",
        "\n",
        "Here we compute how the sequence related to itself using self-attention. To compute self-attention, we multiply the input vector or rather matrix with 3 weight matrices to get the query, key and value matrices. These matrices shall be used to compute self attention using the following formula:\n",
        "$$ Self Attention = Softmax(\\frac{Q\\times K^T}{\\sqrt{d_k}})V$$\n",
        "Where Q, K, V are the result matrix multiplication of weight matrices and input matrix. $d_k$ is the dimension of the model or rather the dimensions of the query, key matrices. As the weight matrices are trained, we can initialize them randomly and the beginning as they will be updated in each iteration of training."
      ]
    },
    {
      "cell_type": "markdown",
      "metadata": {
        "id": "A9qvJ-lc1R14"
      },
      "source": [
        "Looking deeper at self attention, we note that using the query of the different word vectors we get their similarity with every other word's key vector. This is achieved by dot product, see the image below for illustration: ![picture](https://drive.google.com/uc?id=1agUuSuWhz1Og78kDUPhJHJow5Ybqc6sJ)\n",
        "\n",
        "Scaling done by dividing the dot product with the square root of the dimension $\\sqrt{d_k}$ is done so to prevent vanishing gradients caused by dot products that can grow large in size."
      ]
    },
    {
      "cell_type": "code",
      "metadata": {
        "id": "wIZJKjcCRfcl"
      },
      "source": [
        "# Initializing weight matrices for query, key and value matrices\n",
        "WQ = np.random.rand(3,13)\n",
        "WK = np.random.rand(3,13)\n",
        "WV = np.random.rand(3,3)"
      ],
      "execution_count": null,
      "outputs": []
    },
    {
      "cell_type": "code",
      "metadata": {
        "colab": {
          "base_uri": "https://localhost:8080/"
        },
        "id": "iI6l3paxD1js",
        "outputId": "8f89f037-e8ab-4c6a-a4ef-9923dfea908d"
      },
      "source": [
        "# Matrix multiplication of input and weight\n",
        "Q = input_embed[0] @ WQ\n",
        "K = input_embed[0] @ WK\n",
        "V = input_embed[0] @ WV\n",
        "\n",
        "print(Q,'\\n',K,'\\n',V)"
      ],
      "execution_count": null,
      "outputs": [
        {
          "output_type": "stream",
          "name": "stdout",
          "text": [
            "[[ 7.67995509e-01  1.54207425e+00  1.28242332e+00  1.12427544e+00\n",
            "   9.40788529e-01  7.33483056e-01  4.22816574e-01  2.02698878e+00\n",
            "   1.15110051e+00  1.42629922e+00  5.16296353e-01  1.78446193e+00\n",
            "   2.12124263e+00]\n",
            " [ 1.36805494e+00  2.32708397e+00  2.03420877e+00  1.93086690e+00\n",
            "   2.24827111e+00  1.72092360e+00  1.06121776e+00  3.80736832e+00\n",
            "   1.88538878e+00  2.46007729e+00  1.37023534e+00  3.02143091e+00\n",
            "   4.17441361e+00]\n",
            " [ 6.86819884e-01  1.48243765e+00  1.34282887e+00  8.36999079e-01\n",
            "   1.06352667e+00  6.18262178e-01  3.29136967e-01  2.09761906e+00\n",
            "   1.50640984e+00  1.58717772e+00  5.55695450e-01  1.34775437e+00\n",
            "   1.96768806e+00]\n",
            " [ 3.70109905e-01  2.03091313e-01  4.03934754e-01  3.00124855e-01\n",
            "   1.48086503e+00  9.38017727e-01  6.21516574e-01  1.49705281e+00\n",
            "   6.92307115e-01  8.17650912e-01  9.92646860e-01  4.27620798e-01\n",
            "   1.66614594e+00]\n",
            " [ 5.52934150e-02  6.84966399e-02 -8.37967548e-02  2.82546084e-01\n",
            "  -2.81755684e-01  2.26110710e-02  3.15204786e-02 -2.08166894e-01\n",
            "  -4.23516220e-01 -2.32929147e-01 -1.47115659e-01  4.34414822e-01\n",
            "   4.18141630e-03]\n",
            " [-3.33403477e-01 -8.93654427e-01 -8.00955689e-01 -3.73202751e-01\n",
            "  -4.01665965e-01 -1.50101039e-01 -4.11577309e-02 -1.04934067e+00\n",
            "  -9.47102517e-01 -9.02463661e-01 -1.52217683e-01 -6.22542059e-01\n",
            "  -8.47911272e-01]\n",
            " [ 1.51108305e-01 -1.64978788e-01 -1.56669471e-01  3.20959144e-01\n",
            "   4.72753342e-01  5.44403816e-01  4.00895270e-01  2.96056915e-01\n",
            "  -3.79423781e-01 -9.13361303e-02  4.06181450e-01  4.52845306e-01\n",
            "   6.96434807e-01]\n",
            " [ 6.84929212e-01  1.23345743e+00  1.12458596e+00  8.87823409e-01\n",
            "   1.20909570e+00  8.25409158e-01  4.94201935e-01  2.03636924e+00\n",
            "   1.18317910e+00  1.38679694e+00  7.12352430e-01  1.39873997e+00\n",
            "   2.10730190e+00]\n",
            " [ 4.60227498e-01  8.73790347e-01  5.00401467e-01  9.94986839e-01\n",
            "  -1.11183112e-02  3.75227459e-01  2.42716938e-01  6.47590856e-01\n",
            "  -1.03269774e-01  3.27943508e-01  2.82695940e-04  1.55880938e+00\n",
            "   1.02070775e+00]\n",
            " [ 1.22032210e-01  9.23450395e-02  5.34445798e-02  2.34717375e-01\n",
            "   1.97301746e-01  2.38829041e-01  1.67351661e-01  2.46401478e-01\n",
            "  -6.98313016e-02  6.84511449e-02  1.55399824e-01  3.53010768e-01\n",
            "   4.06755475e-01]\n",
            " [ 4.74353307e-01  3.68556674e-01  3.39606378e-01  7.39276477e-01\n",
            "   1.09471969e+00  9.79253645e-01  6.68670992e-01  1.26618660e+00\n",
            "   1.41971496e-01  5.41854559e-01  7.86099773e-01  1.10652534e+00\n",
            "   1.72985655e+00]\n",
            " [-9.54188146e-01 -2.77560997e+00 -2.41080967e+00 -1.12120452e+00\n",
            "  -8.21496098e-01 -2.08979980e-01  4.44321806e-02 -2.87276760e+00\n",
            "  -2.75923401e+00 -2.59989951e+00 -1.84304181e-01 -1.88772357e+00\n",
            "  -2.20691346e+00]\n",
            " [-7.80657214e-01 -2.08278937e+00 -1.70173516e+00 -1.10480010e+00\n",
            "  -4.99928688e-01 -2.80648340e-01 -6.99292990e-02 -2.04502793e+00\n",
            "  -1.66850904e+00 -1.74658478e+00 -1.10759328e-01 -1.81248229e+00\n",
            "  -1.78443246e+00]] \n",
            " [[ 1.76394718  1.21340456  1.50298     1.11703072  1.49148284  0.73361445\n",
            "   0.9444146   0.77225437  1.29822487  1.17279996  1.3538656   1.82593098\n",
            "   1.32948933]\n",
            " [ 3.98921982  3.14241921  3.11094083  3.05893916  2.20988006  1.43562615\n",
            "   1.27594154  1.53275463  2.48314981  2.09003686  3.33472483  3.05372526\n",
            "   2.14370613]\n",
            " [ 1.58839244  0.90694409  1.60820234  0.78675402  1.7796369   1.0568195\n",
            "   0.83481441  0.54468549  1.48669539  1.33083826  1.42289683  1.85232038\n",
            "   1.01111975]\n",
            " [ 2.11557742  1.89727191  1.57949485  1.95441128  0.41316624  0.86606522\n",
            "  -0.1556535   0.48822593  1.1399323   0.79267908  2.19210466  0.76083923\n",
            "   0.16489571]\n",
            " [-0.03343005  0.11571496 -0.26402637  0.13150408 -0.3147075  -0.4194511\n",
            "   0.15007065  0.19189195 -0.30187787 -0.23218803 -0.30209087 -0.07994592\n",
            "   0.33459309]\n",
            " [-0.4940769  -0.05503178 -0.72620874  0.04402133 -1.16258732 -0.60571773\n",
            "  -0.5365882  -0.16304496 -0.77519772 -0.74100447 -0.45654616 -1.03918073\n",
            "  -0.50514982]\n",
            " [ 1.07995814  1.27191727  0.42106346  1.36322321 -0.52967945 -0.12992768\n",
            "  -0.1613881   0.43089411  0.09036168 -0.04101966  0.87146843 -0.02731074\n",
            "   0.2363925 ]\n",
            " [ 1.966064    1.44431124  1.66737022  1.38217016  1.3426022   0.90824462\n",
            "   0.65155284  0.68959547  1.39437057  1.18359979  1.73305103  1.64420849\n",
            "   0.99638363]\n",
            " [ 0.76971149  0.73254867  0.29542723  0.70714826  0.24515015 -0.31136063\n",
            "   0.71187288  0.6717083   0.14678843  0.20275297  0.14326908  0.76832701\n",
            "   1.18295296]\n",
            " [ 0.49142358  0.5215905   0.23274435  0.54377778 -0.07383036 -0.02757043\n",
            "   0.05078066  0.22721596  0.10593897  0.06204265  0.35676426  0.14254937\n",
            "   0.23254419]\n",
            " [ 2.0968354   2.06445358  1.24293209  2.13714142  0.03846518  0.29588304\n",
            "   0.10358675  0.7789185   0.75308265  0.50609971  1.77815329  0.71865795\n",
            "   0.69020013]\n",
            " [-0.95558162  0.35721019 -1.82172612  0.68544509 -3.53082624 -1.62992183\n",
            "  -1.7560248  -0.39416235 -2.09878377 -2.09629127 -0.79002707 -3.06287475\n",
            "  -1.58211814]\n",
            " [-0.90220419 -0.07240535 -1.24696096  0.14212949 -2.29223382 -0.88078869\n",
            "  -1.38427694 -0.5194448  -1.35953748 -1.3823659  -0.54120094 -2.21563771\n",
            "  -1.46896229]] \n",
            " [[ 1.24385735  0.60220418  1.34441465]\n",
            " [ 2.72388073  1.41449433  1.92343532]\n",
            " [ 1.07481092  0.63746192  1.49579338]\n",
            " [ 1.32326023  0.87662328  0.1838279 ]\n",
            " [ 0.04280778 -0.12744152 -0.15007647]\n",
            " [-0.3406813  -0.22961815 -0.98144882]\n",
            " [ 0.72704155  0.3228467  -0.43287069]\n",
            " [ 1.32356749  0.74159869  1.12611463]\n",
            " [ 0.65117425  0.07743126  0.43470978]\n",
            " [ 0.34378941  0.13913875 -0.03616834]\n",
            " [ 1.40689485  0.70487705  0.0367659 ]\n",
            " [-0.70373215 -0.46415363 -3.03856928]\n",
            " [-0.70004087 -0.31677314 -2.06542498]]\n"
          ]
        }
      ]
    },
    {
      "cell_type": "code",
      "metadata": {
        "colab": {
          "base_uri": "https://localhost:8080/"
        },
        "id": "7QIR5T1CmR2W",
        "outputId": "a6b90a84-35a9-471a-da62-4ef572c429c9"
      },
      "source": [
        "print(Q.shape,K.shape,V.shape, sep='\\n')"
      ],
      "execution_count": null,
      "outputs": [
        {
          "output_type": "stream",
          "name": "stdout",
          "text": [
            "(13, 13)\n",
            "(13, 13)\n",
            "(13, 3)\n"
          ]
        }
      ]
    },
    {
      "cell_type": "code",
      "metadata": {
        "id": "alrd9UkQ3OeL"
      },
      "source": [
        "# @title Computing Self-attention $ = Softmax(\\frac{Q\\times K^T}{\\sqrt{d_k}})V$\n",
        "softmax = lambda x: np.exp(x)/sum(np.exp(x))\n",
        "\n",
        "self_attention = lambda q,k,v: softmax((q @ k.T)/np.sqrt(13)) @ v"
      ],
      "execution_count": null,
      "outputs": []
    },
    {
      "cell_type": "code",
      "metadata": {
        "id": "QrCiryPIE59J",
        "colab": {
          "base_uri": "https://localhost:8080/",
          "height": 447
        },
        "outputId": "ec866de8-de3d-491e-b189-6168f5b9b680"
      },
      "source": [
        "# Encoder self-attention\n",
        "enc_self_attention = self_attention(Q,K,V)\n",
        "\n",
        "print(enc_self_attention.shape)\n",
        "\n",
        "ax = sns.heatmap(softmax((Q @ K.T)/np.sqrt(35)))"
      ],
      "execution_count": null,
      "outputs": [
        {
          "output_type": "stream",
          "name": "stdout",
          "text": [
            "(13, 3)\n"
          ]
        },
        {
          "output_type": "display_data",
          "data": {
            "text/plain": [
              "<Figure size 640x480 with 2 Axes>"
            ],
            "image/png": "[encoded data removed]"
          },
          "metadata": {}
        }
      ]
    },
    {
      "cell_type": "markdown",
      "metadata": {
        "id": "0qqic4JWhbHb"
      },
      "source": [
        "### Add and Norm\n",
        "\n",
        "Add and norm layer is essential in counteracting some of the problems caused during training.\n",
        "\n",
        "**Residue connection**\n",
        "\n",
        "In the add and norm layer, we add the result of the previous sublayer to its input. During training, some information may be lost due to the various transformations the data goes through thus adding the input preserves this information as the data moves to the next sublayer/layer. Computation of residual connection can be summarized as:\n",
        "\n",
        "$$ res = x + sublayer(x)$$\n",
        "\n",
        "where $x$ is the input of the previous sublayer and $sublayer(x)$ is the output of the previous sublayer.\n",
        "\n",
        "**Layer Normalization**\n",
        "\n",
        "We normalize the output of the residual connection step in layer normalization using the mean and standard deviation of the output of the residual connection. This process aids the in handling large values from the previous layer that would impact the values of the next layer making convergence a lot slower during backpropagation. Essentially layer norm enables the transformer to train faster. To perform normalization, we use:\n",
        "\n",
        "$$LayerNorm = \\frac{res - \\mu}{\\sigma + \\epsilon}$$\n",
        "\n",
        "where $\\mu$ is the position-wise mean and $\\sigma$ is the position-wise standard deviation. Thus each value of the residual connection($res$) is normalized."
      ]
    },
    {
      "cell_type": "code",
      "metadata": {
        "id": "NVB-6ixqhafw"
      },
      "source": [
        "# @title # Compute add and norm\n",
        "def add_and_norm(x,y):\n",
        "  # Residual connection\n",
        "  res = x + y\n",
        "\n",
        "  # Layer normalization\n",
        "  mean = res.mean(-1,keepdims=True)\n",
        "  std = res.std(-1,keepdims=True)\n",
        "\n",
        "  return np.ones(res.shape) * (res - mean) / (std + 1e-6) + np.zeros(res.shape)"
      ],
      "execution_count": null,
      "outputs": []
    },
    {
      "cell_type": "code",
      "metadata": {
        "id": "MaAODsB6J0i9",
        "colab": {
          "base_uri": "https://localhost:8080/"
        },
        "outputId": "15c2e1ac-e368-4573-ccf2-01460f27ab5c"
      },
      "source": [
        "layernorm = add_and_norm(input_embed[0],enc_self_attention)\n",
        "layernorm"
      ],
      "execution_count": null,
      "outputs": [
        {
          "output_type": "execute_result",
          "data": {
            "text/plain": [
              "array([[ 0.96651256,  0.41082698, -1.37733954],\n",
              "       [ 1.32321993, -0.22938877, -1.09383116],\n",
              "       [ 1.41350366, -0.74532279, -0.66818087],\n",
              "       [-1.22338523,  1.22609773, -0.0027125 ],\n",
              "       [ 0.95330782,  0.42799939, -1.38130721],\n",
              "       [-0.58154896,  1.40717165, -0.82562269],\n",
              "       [-0.49125256,  1.39410346, -0.9028509 ],\n",
              "       [-0.1628041 ,  1.29800113, -1.13519704],\n",
              "       [ 0.9698137 ,  0.40649276, -1.37630646],\n",
              "       [-0.04765225,  1.24787209, -1.20021984],\n",
              "       [-0.51414543,  1.39801015, -0.88386472],\n",
              "       [-0.1025749 ,  1.27280605, -1.17023115],\n",
              "       [-1.03014434,  1.35417818, -0.32403384]])"
            ]
          },
          "metadata": {},
          "execution_count": 132
        }
      ]
    },
    {
      "cell_type": "markdown",
      "metadata": {
        "id": "gPRseaFnBRHu"
      },
      "source": [
        "### Position-wise Feed-Forward Network\n",
        "\n",
        "This involves taking the output from the layer normalization through a neural network with one layer. That is:\n",
        "$$ FFN(x) = max(0,xW_1 + b_1)W_2 + b_2$$\n",
        "where $x$ is the output from the previous layer. $x$ becomes the design matrix with each row representing different positions vectors which will be treated as one observation.  "
      ]
    },
    {
      "cell_type": "code",
      "metadata": {
        "id": "2iHPbRnfVsSv"
      },
      "source": [
        "# Position-wise feed forward network\n",
        "def ffn(x):\n",
        "  x = torch.from_numpy(x).float()\n",
        "  l1 = nn.Linear(3, 12)\n",
        "  l2 = nn.Linear(12, 3)\n",
        "  return l2(F.relu(l1(x))).detach().numpy()"
      ],
      "execution_count": null,
      "outputs": []
    },
    {
      "cell_type": "code",
      "metadata": {
        "id": "q8YXMfY1az5l"
      },
      "source": [
        "enc_output = ffn(layernorm)"
      ],
      "execution_count": null,
      "outputs": []
    },
    {
      "cell_type": "code",
      "metadata": {
        "colab": {
          "base_uri": "https://localhost:8080/"
        },
        "id": "CKNN4CjEa6Lx",
        "outputId": "d9d64882-09bd-4b7f-cd01-b301af5a1413"
      },
      "source": [
        "# Add and normalize\n",
        "layernorm2 = add_and_norm(enc_output, layernorm)\n",
        "layernorm2"
      ],
      "execution_count": null,
      "outputs": [
        {
          "output_type": "execute_result",
          "data": {
            "text/plain": [
              "array([[ 0.73167669,  0.68224671, -1.4139234 ],\n",
              "       [ 1.33660484, -0.26816379, -1.06844105],\n",
              "       [ 1.40026205, -0.87172813, -0.52853392],\n",
              "       [-1.21831097,  1.23107712, -0.01276614],\n",
              "       [ 0.70833518,  0.7058755 , -1.41421068],\n",
              "       [-0.83808422,  1.40555556, -0.56747134],\n",
              "       [-0.78636384,  1.4111316 , -0.62476777],\n",
              "       [-0.58672426,  1.40772894, -0.82100468],\n",
              "       [ 0.73756862,  0.67619882, -1.41376744],\n",
              "       [-0.50920267,  1.39720003, -0.88799737],\n",
              "       [-0.79954731,  1.4099918 , -0.6104445 ],\n",
              "       [-0.54684121,  1.40289875, -0.85605754],\n",
              "       [-1.09786302,  1.32095505, -0.22309204]])"
            ]
          },
          "metadata": {},
          "execution_count": 136
        }
      ]
    },
    {
      "cell_type": "markdown",
      "metadata": {
        "id": "LxUCaabJrfOm"
      },
      "source": [
        "## Decoder stack"
      ]
    },
    {
      "cell_type": "markdown",
      "metadata": {
        "id": "z81iBZLhkL8u"
      },
      "source": [
        "### Masked self attention\n",
        "\n",
        "During training, we feed the target sentence to the decoder stack. This is to facilitate teacher forcing where regardless of the output of the model it know the correct result it should get. With the masked self-attention, we offset the values of the sequence yet to be seen. Thus the masked self attention has the following formula:\n",
        "$$ Self Attention = Softmax(\\frac{(Q\\times K^T) + M}{\\sqrt{d_k}})V$$\n",
        "where M is a special triangular matrix which has the upper triangles set to $-\\infty$ and the rest are zeros. After normalization this results, the resultant matrix has the weights spread out in previous segments and not the ones not seen before."
      ]
    },
    {
      "cell_type": "code",
      "metadata": {
        "id": "3xFp6aWykLeP",
        "colab": {
          "base_uri": "https://localhost:8080/"
        },
        "outputId": "b321d87b-d963-48af-8ac8-23a272dd243a"
      },
      "source": [
        "# computing masked self attention\n",
        "M = np.triu(np.ones((13,13)), k=1)\n",
        "M [M > 0] = float('-inf')\n",
        "M"
      ],
      "execution_count": null,
      "outputs": [
        {
          "output_type": "execute_result",
          "data": {
            "text/plain": [
              "array([[  0., -inf, -inf, -inf, -inf, -inf, -inf, -inf, -inf, -inf, -inf,\n",
              "        -inf, -inf],\n",
              "       [  0.,   0., -inf, -inf, -inf, -inf, -inf, -inf, -inf, -inf, -inf,\n",
              "        -inf, -inf],\n",
              "       [  0.,   0.,   0., -inf, -inf, -inf, -inf, -inf, -inf, -inf, -inf,\n",
              "        -inf, -inf],\n",
              "       [  0.,   0.,   0.,   0., -inf, -inf, -inf, -inf, -inf, -inf, -inf,\n",
              "        -inf, -inf],\n",
              "       [  0.,   0.,   0.,   0.,   0., -inf, -inf, -inf, -inf, -inf, -inf,\n",
              "        -inf, -inf],\n",
              "       [  0.,   0.,   0.,   0.,   0.,   0., -inf, -inf, -inf, -inf, -inf,\n",
              "        -inf, -inf],\n",
              "       [  0.,   0.,   0.,   0.,   0.,   0.,   0., -inf, -inf, -inf, -inf,\n",
              "        -inf, -inf],\n",
              "       [  0.,   0.,   0.,   0.,   0.,   0.,   0.,   0., -inf, -inf, -inf,\n",
              "        -inf, -inf],\n",
              "       [  0.,   0.,   0.,   0.,   0.,   0.,   0.,   0.,   0., -inf, -inf,\n",
              "        -inf, -inf],\n",
              "       [  0.,   0.,   0.,   0.,   0.,   0.,   0.,   0.,   0.,   0., -inf,\n",
              "        -inf, -inf],\n",
              "       [  0.,   0.,   0.,   0.,   0.,   0.,   0.,   0.,   0.,   0.,   0.,\n",
              "        -inf, -inf],\n",
              "       [  0.,   0.,   0.,   0.,   0.,   0.,   0.,   0.,   0.,   0.,   0.,\n",
              "          0., -inf],\n",
              "       [  0.,   0.,   0.,   0.,   0.,   0.,   0.,   0.,   0.,   0.,   0.,\n",
              "          0.,   0.]])"
            ]
          },
          "metadata": {},
          "execution_count": 137
        }
      ]
    },
    {
      "cell_type": "code",
      "metadata": {
        "id": "IxeM_aXLecir",
        "colab": {
          "base_uri": "https://localhost:8080/"
        },
        "outputId": "dbe28829-c277-4d3c-8101-a7670e944aa2"
      },
      "source": [
        "masked_self_attention = softmax(((Q @ K.T) + M)/np.sqrt(13)) @ V\n",
        "masked_self_attention"
      ],
      "execution_count": null,
      "outputs": [
        {
          "output_type": "execute_result",
          "data": {
            "text/plain": [
              "array([[ 0.01084907,  0.00525249,  0.01172614],\n",
              "       [ 3.93571665,  2.00118125,  3.23339261],\n",
              "       [ 0.46505275,  0.27482374,  0.64425955],\n",
              "       [ 0.23338562,  0.14874038,  0.13540717],\n",
              "       [ 0.01991717, -0.00487675, -0.01260037],\n",
              "       [-0.02220063, -0.03326391, -0.10033378],\n",
              "       [ 0.10074509,  0.03398719, -0.06312873],\n",
              "       [ 2.61875358,  1.52261346,  1.46863392],\n",
              "       [ 0.60547392,  0.20786981,  0.13916694],\n",
              "       [ 0.32090042,  0.09791805, -0.00955555],\n",
              "       [ 2.4309272 ,  1.1034247 ,  0.38939596],\n",
              "       [-0.78531279, -0.55111483, -3.29565443],\n",
              "       [-0.81757781, -0.42786584, -2.70020644]])"
            ]
          },
          "metadata": {},
          "execution_count": 138
        }
      ]
    },
    {
      "cell_type": "code",
      "metadata": {
        "id": "qLGyrXk0rRYl"
      },
      "source": [
        "# Adding and normalizing\n",
        "dlayernorm = add_and_norm(input_embed, masked_self_attention)"
      ],
      "execution_count": null,
      "outputs": []
    },
    {
      "cell_type": "code",
      "metadata": {
        "colab": {
          "base_uri": "https://localhost:8080/"
        },
        "id": "ERgcE8h-rjQf",
        "outputId": "88e9065d-d128-472c-e1be-840290e02365"
      },
      "source": [
        "dlayernorm"
      ],
      "execution_count": null,
      "outputs": [
        {
          "output_type": "execute_result",
          "data": {
            "text/plain": [
              "array([[[ 0.8508411 ,  0.55286652, -1.40370762],\n",
              "        [ 0.87470902,  0.52501712, -1.39972614],\n",
              "        [ 0.48607099, -1.39316022,  0.90708924],\n",
              "        [-1.2292583 ,  1.22017866,  0.00907964],\n",
              "        [ 0.95577222,  0.42481471, -1.38058693],\n",
              "        [-0.64914995,  1.41266733, -0.76351738],\n",
              "        [-0.4443165 ,  1.38488514, -0.94056865],\n",
              "        [ 1.03172543,  0.32178365, -1.35350908],\n",
              "        [ 1.06137075,  0.27870735, -1.3400781 ],\n",
              "        [ 0.32103525,  1.03225001, -1.35328525],\n",
              "        [ 0.33814167,  1.02014865, -1.35829032],\n",
              "        [-0.23445987,  1.32502547, -1.0905656 ],\n",
              "        [-0.51457907,  1.39808052, -0.88350146]]])"
            ]
          },
          "metadata": {},
          "execution_count": 140
        }
      ]
    },
    {
      "cell_type": "markdown",
      "metadata": {
        "id": "W9fG6pS3IPKk"
      },
      "source": [
        "## Linear and softmax\n",
        "\n",
        "This linear layer and softmax layer help in getting the probabilities of the translation being a certain word in the vocabulary. To make the translation, we pick the word with the highest probability."
      ]
    },
    {
      "cell_type": "code",
      "metadata": {
        "id": "CYt37AtFAKKj"
      },
      "source": [
        "lin = nn.Linear(3, 35)\n",
        "\n",
        "result = softmax(lin(torch.from_numpy(dlayernorm).float()).detach().numpy())"
      ],
      "execution_count": null,
      "outputs": []
    },
    {
      "cell_type": "code",
      "source": [
        "result"
      ],
      "metadata": {
        "colab": {
          "base_uri": "https://localhost:8080/"
        },
        "id": "7kQ61Turg1uD",
        "outputId": "e25c4509-a196-4792-bd41-88b2905498ba"
      },
      "execution_count": null,
      "outputs": [
        {
          "output_type": "execute_result",
          "data": {
            "text/plain": [
              "array([[[1., 1., 1., 1., 1., 1., 1., 1., 1., 1., 1., 1., 1., 1., 1., 1.,\n",
              "         1., 1., 1., 1., 1., 1., 1., 1., 1., 1., 1., 1., 1., 1., 1., 1.,\n",
              "         1., 1., 1.],\n",
              "        [1., 1., 1., 1., 1., 1., 1., 1., 1., 1., 1., 1., 1., 1., 1., 1.,\n",
              "         1., 1., 1., 1., 1., 1., 1., 1., 1., 1., 1., 1., 1., 1., 1., 1.,\n",
              "         1., 1., 1.],\n",
              "        [1., 1., 1., 1., 1., 1., 1., 1., 1., 1., 1., 1., 1., 1., 1., 1.,\n",
              "         1., 1., 1., 1., 1., 1., 1., 1., 1., 1., 1., 1., 1., 1., 1., 1.,\n",
              "         1., 1., 1.],\n",
              "        [1., 1., 1., 1., 1., 1., 1., 1., 1., 1., 1., 1., 1., 1., 1., 1.,\n",
              "         1., 1., 1., 1., 1., 1., 1., 1., 1., 1., 1., 1., 1., 1., 1., 1.,\n",
              "         1., 1., 1.],\n",
              "        [1., 1., 1., 1., 1., 1., 1., 1., 1., 1., 1., 1., 1., 1., 1., 1.,\n",
              "         1., 1., 1., 1., 1., 1., 1., 1., 1., 1., 1., 1., 1., 1., 1., 1.,\n",
              "         1., 1., 1.],\n",
              "        [1., 1., 1., 1., 1., 1., 1., 1., 1., 1., 1., 1., 1., 1., 1., 1.,\n",
              "         1., 1., 1., 1., 1., 1., 1., 1., 1., 1., 1., 1., 1., 1., 1., 1.,\n",
              "         1., 1., 1.],\n",
              "        [1., 1., 1., 1., 1., 1., 1., 1., 1., 1., 1., 1., 1., 1., 1., 1.,\n",
              "         1., 1., 1., 1., 1., 1., 1., 1., 1., 1., 1., 1., 1., 1., 1., 1.,\n",
              "         1., 1., 1.],\n",
              "        [1., 1., 1., 1., 1., 1., 1., 1., 1., 1., 1., 1., 1., 1., 1., 1.,\n",
              "         1., 1., 1., 1., 1., 1., 1., 1., 1., 1., 1., 1., 1., 1., 1., 1.,\n",
              "         1., 1., 1.],\n",
              "        [1., 1., 1., 1., 1., 1., 1., 1., 1., 1., 1., 1., 1., 1., 1., 1.,\n",
              "         1., 1., 1., 1., 1., 1., 1., 1., 1., 1., 1., 1., 1., 1., 1., 1.,\n",
              "         1., 1., 1.],\n",
              "        [1., 1., 1., 1., 1., 1., 1., 1., 1., 1., 1., 1., 1., 1., 1., 1.,\n",
              "         1., 1., 1., 1., 1., 1., 1., 1., 1., 1., 1., 1., 1., 1., 1., 1.,\n",
              "         1., 1., 1.],\n",
              "        [1., 1., 1., 1., 1., 1., 1., 1., 1., 1., 1., 1., 1., 1., 1., 1.,\n",
              "         1., 1., 1., 1., 1., 1., 1., 1., 1., 1., 1., 1., 1., 1., 1., 1.,\n",
              "         1., 1., 1.],\n",
              "        [1., 1., 1., 1., 1., 1., 1., 1., 1., 1., 1., 1., 1., 1., 1., 1.,\n",
              "         1., 1., 1., 1., 1., 1., 1., 1., 1., 1., 1., 1., 1., 1., 1., 1.,\n",
              "         1., 1., 1.],\n",
              "        [1., 1., 1., 1., 1., 1., 1., 1., 1., 1., 1., 1., 1., 1., 1., 1.,\n",
              "         1., 1., 1., 1., 1., 1., 1., 1., 1., 1., 1., 1., 1., 1., 1., 1.,\n",
              "         1., 1., 1.]]], dtype=float32)"
            ]
          },
          "metadata": {},
          "execution_count": 142
        }
      ]
    },
    {
      "cell_type": "code",
      "metadata": {
        "colab": {
          "base_uri": "https://localhost:8080/"
        },
        "id": "HotU5lbIaHwh",
        "outputId": "b8cc5206-e83d-4adb-f9b9-23d39b65e339"
      },
      "source": [
        "max_index_row = np.argmax(result, axis=1)\n",
        "\n",
        "print(max_index_row)"
      ],
      "execution_count": null,
      "outputs": [
        {
          "output_type": "stream",
          "name": "stdout",
          "text": [
            "[[0 0 0 0 0 0 0 0 0 0 0 0 0 0 0 0 0 0 0 0 0 0 0 0 0 0 0 0 0 0 0 0 0 0 0]]\n"
          ]
        }
      ]
    },
    {
      "cell_type": "code",
      "metadata": {
        "id": "kqMgoQ55gS-J",
        "colab": {
          "base_uri": "https://localhost:8080/"
        },
        "outputId": "17fa4e34-c17b-4af4-a646-b0d5d1dd5c49"
      },
      "source": [
        "for i in max_index_row[0]:\n",
        "  print(vocab_dict[i],end=' ')"
      ],
      "execution_count": null,
      "outputs": [
        {
          "output_type": "stream",
          "name": "stdout",
          "text": [
            "PAD PAD PAD PAD PAD PAD PAD PAD PAD PAD PAD PAD PAD PAD PAD PAD PAD PAD PAD PAD PAD PAD PAD PAD PAD PAD PAD PAD PAD PAD PAD PAD PAD PAD PAD "
          ]
        }
      ]
    },
    {
      "cell_type": "markdown",
      "source": [
        "# Finetuning a pretrained model"
      ],
      "metadata": {
        "id": "OF_OS2QCcqPF"
      }
    },
    {
      "cell_type": "code",
      "source": [
        "!pip install torch==1.11.0\n",
        "!pip install transformers==4.31.0\n",
        "!pip install datasets==1.18.0\n",
        "!pip install sentencepiece==0.1.96\n",
        "!pip install sacrebleu==2.0.0\n",
        "!pip install accelerate==0.20.3"
      ],
      "metadata": {
        "colab": {
          "base_uri": "https://localhost:8080/"
        },
        "id": "k1HPElUtcsvf",
        "outputId": "6d7e9280-4a19-4c8a-b4b1-80c7c385d03d"
      },
      "execution_count": null,
      "outputs": [
        {
          "output_type": "stream",
          "name": "stdout",
          "text": [
            "Collecting transformers\n",
            "  Downloading transformers-4.31.0-py3-none-any.whl (7.4 MB)\n",
            "\u001b[2K     \u001b[90m━━━━━━━━━━━━━━━━━━━━━━━━━━━━━━━━━━━━━━━━\u001b[0m \u001b[32m7.4/7.4 MB\u001b[0m \u001b[31m33.4 MB/s\u001b[0m eta \u001b[36m0:00:00\u001b[0m\n",
            "\u001b[?25hRequirement already satisfied: filelock in /usr/local/lib/python3.10/dist-packages (from transformers) (3.12.2)\n",
            "Collecting huggingface-hub<1.0,>=0.14.1 (from transformers)\n",
            "  Downloading huggingface_hub-0.16.4-py3-none-any.whl (268 kB)\n",
            "\u001b[2K     \u001b[90m━━━━━━━━━━━━━━━━━━━━━━━━━━━━━━━━━━━━━━\u001b[0m \u001b[32m268.8/268.8 kB\u001b[0m \u001b[31m17.7 MB/s\u001b[0m eta \u001b[36m0:00:00\u001b[0m\n",
            "\u001b[?25hRequirement already satisfied: numpy>=1.17 in /usr/local/lib/python3.10/dist-packages (from transformers) (1.23.5)\n",
            "Requirement already satisfied: packaging>=20.0 in /usr/local/lib/python3.10/dist-packages (from transformers) (23.1)\n",
            "Requirement already satisfied: pyyaml>=5.1 in /usr/local/lib/python3.10/dist-packages (from transformers) (6.0.1)\n",
            "Requirement already satisfied: regex!=2019.12.17 in /usr/local/lib/python3.10/dist-packages (from transformers) (2022.10.31)\n",
            "Requirement already satisfied: requests in /usr/local/lib/python3.10/dist-packages (from transformers) (2.31.0)\n",
            "Collecting tokenizers!=0.11.3,<0.14,>=0.11.1 (from transformers)\n",
            "  Downloading tokenizers-0.13.3-cp310-cp310-manylinux_2_17_x86_64.manylinux2014_x86_64.whl (7.8 MB)\n",
            "\u001b[2K     \u001b[90m━━━━━━━━━━━━━━━━━━━━━━━━━━━━━━━━━━━━━━━━\u001b[0m \u001b[32m7.8/7.8 MB\u001b[0m \u001b[31m71.1 MB/s\u001b[0m eta \u001b[36m0:00:00\u001b[0m\n",
            "\u001b[?25hCollecting safetensors>=0.3.1 (from transformers)\n",
            "  Downloading safetensors-0.3.2-cp310-cp310-manylinux_2_17_x86_64.manylinux2014_x86_64.whl (1.3 MB)\n",
            "\u001b[2K     \u001b[90m━━━━━━━━━━━━━━━━━━━━━━━━━━━━━━━━━━━━━━━━\u001b[0m \u001b[32m1.3/1.3 MB\u001b[0m \u001b[31m69.3 MB/s\u001b[0m eta \u001b[36m0:00:00\u001b[0m\n",
            "\u001b[?25hRequirement already satisfied: tqdm>=4.27 in /usr/local/lib/python3.10/dist-packages (from transformers) (4.65.0)\n",
            "Requirement already satisfied: fsspec in /usr/local/lib/python3.10/dist-packages (from huggingface-hub<1.0,>=0.14.1->transformers) (2023.6.0)\n",
            "Requirement already satisfied: typing-extensions>=3.7.4.3 in /usr/local/lib/python3.10/dist-packages (from huggingface-hub<1.0,>=0.14.1->transformers) (4.7.1)\n",
            "Requirement already satisfied: charset-normalizer<4,>=2 in /usr/local/lib/python3.10/dist-packages (from requests->transformers) (3.2.0)\n",
            "Requirement already satisfied: idna<4,>=2.5 in /usr/local/lib/python3.10/dist-packages (from requests->transformers) (3.4)\n",
            "Requirement already satisfied: urllib3<3,>=1.21.1 in /usr/local/lib/python3.10/dist-packages (from requests->transformers) (1.26.16)\n",
            "Requirement already satisfied: certifi>=2017.4.17 in /usr/local/lib/python3.10/dist-packages (from requests->transformers) (2023.7.22)\n",
            "Installing collected packages: tokenizers, safetensors, huggingface-hub, transformers\n",
            "Successfully installed huggingface-hub-0.16.4 safetensors-0.3.2 tokenizers-0.13.3 transformers-4.31.0\n",
            "Collecting datasets\n",
            "  Downloading datasets-2.14.4-py3-none-any.whl (519 kB)\n",
            "\u001b[2K     \u001b[90m━━━━━━━━━━━━━━━━━━━━━━━━━━━━━━━━━━━━━━━\u001b[0m \u001b[32m519.3/519.3 kB\u001b[0m \u001b[31m8.7 MB/s\u001b[0m eta \u001b[36m0:00:00\u001b[0m\n",
            "\u001b[?25hRequirement already satisfied: numpy>=1.17 in /usr/local/lib/python3.10/dist-packages (from datasets) (1.23.5)\n",
            "Requirement already satisfied: pyarrow>=8.0.0 in /usr/local/lib/python3.10/dist-packages (from datasets) (9.0.0)\n",
            "Collecting dill<0.3.8,>=0.3.0 (from datasets)\n",
            "  Downloading dill-0.3.7-py3-none-any.whl (115 kB)\n",
            "\u001b[2K     \u001b[90m━━━━━━━━━━━━━━━━━━━━━━━━━━━━━━━━━━━━━━\u001b[0m \u001b[32m115.3/115.3 kB\u001b[0m \u001b[31m14.3 MB/s\u001b[0m eta \u001b[36m0:00:00\u001b[0m\n",
            "\u001b[?25hRequirement already satisfied: pandas in /usr/local/lib/python3.10/dist-packages (from datasets) (1.5.3)\n",
            "Requirement already satisfied: requests>=2.19.0 in /usr/local/lib/python3.10/dist-packages (from datasets) (2.31.0)\n",
            "Requirement already satisfied: tqdm>=4.62.1 in /usr/local/lib/python3.10/dist-packages (from datasets) (4.65.0)\n",
            "Collecting xxhash (from datasets)\n",
            "  Downloading xxhash-3.3.0-cp310-cp310-manylinux_2_17_x86_64.manylinux2014_x86_64.whl (194 kB)\n",
            "\u001b[2K     \u001b[90m━━━━━━━━━━━━━━━━━━━━━━━━━━━━━━━━━━━━━━\u001b[0m \u001b[32m194.1/194.1 kB\u001b[0m \u001b[31m21.4 MB/s\u001b[0m eta \u001b[36m0:00:00\u001b[0m\n",
            "\u001b[?25hCollecting multiprocess (from datasets)\n",
            "  Downloading multiprocess-0.70.15-py310-none-any.whl (134 kB)\n",
            "\u001b[2K     \u001b[90m━━━━━━━━━━━━━━━━━━━━━━━━━━━━━━━━━━━━━━\u001b[0m \u001b[32m134.8/134.8 kB\u001b[0m \u001b[31m15.4 MB/s\u001b[0m eta \u001b[36m0:00:00\u001b[0m\n",
            "\u001b[?25hRequirement already satisfied: fsspec[http]>=2021.11.1 in /usr/local/lib/python3.10/dist-packages (from datasets) (2023.6.0)\n",
            "Requirement already satisfied: aiohttp in /usr/local/lib/python3.10/dist-packages (from datasets) (3.8.5)\n",
            "Requirement already satisfied: huggingface-hub<1.0.0,>=0.14.0 in /usr/local/lib/python3.10/dist-packages (from datasets) (0.16.4)\n",
            "Requirement already satisfied: packaging in /usr/local/lib/python3.10/dist-packages (from datasets) (23.1)\n",
            "Requirement already satisfied: pyyaml>=5.1 in /usr/local/lib/python3.10/dist-packages (from datasets) (6.0.1)\n",
            "Requirement already satisfied: attrs>=17.3.0 in /usr/local/lib/python3.10/dist-packages (from aiohttp->datasets) (23.1.0)\n",
            "Requirement already satisfied: charset-normalizer<4.0,>=2.0 in /usr/local/lib/python3.10/dist-packages (from aiohttp->datasets) (3.2.0)\n",
            "Requirement already satisfied: multidict<7.0,>=4.5 in /usr/local/lib/python3.10/dist-packages (from aiohttp->datasets) (6.0.4)\n",
            "Requirement already satisfied: async-timeout<5.0,>=4.0.0a3 in /usr/local/lib/python3.10/dist-packages (from aiohttp->datasets) (4.0.2)\n",
            "Requirement already satisfied: yarl<2.0,>=1.0 in /usr/local/lib/python3.10/dist-packages (from aiohttp->datasets) (1.9.2)\n",
            "Requirement already satisfied: frozenlist>=1.1.1 in /usr/local/lib/python3.10/dist-packages (from aiohttp->datasets) (1.4.0)\n",
            "Requirement already satisfied: aiosignal>=1.1.2 in /usr/local/lib/python3.10/dist-packages (from aiohttp->datasets) (1.3.1)\n",
            "Requirement already satisfied: filelock in /usr/local/lib/python3.10/dist-packages (from huggingface-hub<1.0.0,>=0.14.0->datasets) (3.12.2)\n",
            "Requirement already satisfied: typing-extensions>=3.7.4.3 in /usr/local/lib/python3.10/dist-packages (from huggingface-hub<1.0.0,>=0.14.0->datasets) (4.7.1)\n",
            "Requirement already satisfied: idna<4,>=2.5 in /usr/local/lib/python3.10/dist-packages (from requests>=2.19.0->datasets) (3.4)\n",
            "Requirement already satisfied: urllib3<3,>=1.21.1 in /usr/local/lib/python3.10/dist-packages (from requests>=2.19.0->datasets) (1.26.16)\n",
            "Requirement already satisfied: certifi>=2017.4.17 in /usr/local/lib/python3.10/dist-packages (from requests>=2.19.0->datasets) (2023.7.22)\n",
            "Requirement already satisfied: python-dateutil>=2.8.1 in /usr/local/lib/python3.10/dist-packages (from pandas->datasets) (2.8.2)\n",
            "Requirement already satisfied: pytz>=2020.1 in /usr/local/lib/python3.10/dist-packages (from pandas->datasets) (2022.7.1)\n",
            "Requirement already satisfied: six>=1.5 in /usr/local/lib/python3.10/dist-packages (from python-dateutil>=2.8.1->pandas->datasets) (1.16.0)\n",
            "Installing collected packages: xxhash, dill, multiprocess, datasets\n",
            "Successfully installed datasets-2.14.4 dill-0.3.7 multiprocess-0.70.15 xxhash-3.3.0\n"
          ]
        }
      ]
    },
    {
      "cell_type": "code",
      "source": [
        "from datasets import load_dataset\n",
        "from transformers import AutoTokenizer\n",
        "from transformers import AutoConfig, AutoModelForCausalLM\n",
        "from transformers import Trainer, TrainingArguments"
      ],
      "metadata": {
        "id": "5AId6SGSkBVL"
      },
      "execution_count": null,
      "outputs": []
    },
    {
      "cell_type": "code",
      "source": [
        "# Load dataset\n",
        "datasets = load_dataset('wikitext', 'wikitext-2-raw-v1')"
      ],
      "metadata": {
        "colab": {
          "base_uri": "https://localhost:8080/",
          "height": 86,
          "referenced_widgets": [
            "12f11519b07a44fe969aa44584dca956",
            "bc7b342bd7804f1b99a819fc18a019dc",
            "993885d6b775412dbba9c7cf0423216d",
            "f834228abd964948b29d8ce716233a5c",
            "2c84daaa5bcb4797927d139ce69a4da2",
            "31fdb7306b4c46098db2e18f583ae044",
            "7d6deb73559248558ea2bf0b5b1f870b",
            "22c0b3d2f3474bccbec6511f9817c06d",
            "121de34ad68342ca8da9eaf3f2c79571",
            "e40111fc82594b548382fa1ba0dbc38c",
            "5c2332dd50e543bfb859ee676223db51"
          ]
        },
        "id": "9_rEIWaxkJNk",
        "outputId": "34fcf92e-3daa-429e-e92e-5bf2c6a53dd5"
      },
      "execution_count": null,
      "outputs": [
        {
          "output_type": "stream",
          "name": "stderr",
          "text": [
            "WARNING:datasets.builder:Reusing dataset wikitext (/root/.cache/huggingface/datasets/wikitext/wikitext-2-raw-v1/1.0.0/a241db52902eaf2c6aa732210bead40c090019a499ceb13bcbfa3f8ab646a126)\n"
          ]
        },
        {
          "output_type": "display_data",
          "data": {
            "text/plain": [
              "  0%|          | 0/3 [00:00<?, ?it/s]"
            ],
            "application/vnd.jupyter.widget-view+json": {
              "version_major": 2,
              "version_minor": 0,
              "model_id": "12f11519b07a44fe969aa44584dca956"
            }
          },
          "metadata": {}
        }
      ]
    },
    {
      "cell_type": "code",
      "source": [
        "datasets"
      ],
      "metadata": {
        "colab": {
          "base_uri": "https://localhost:8080/"
        },
        "id": "Tj72Uf6FlB2C",
        "outputId": "7314f203-55da-475d-d438-ff90138a2b18"
      },
      "execution_count": null,
      "outputs": [
        {
          "output_type": "execute_result",
          "data": {
            "text/plain": [
              "DatasetDict({\n",
              "    test: Dataset({\n",
              "        features: ['text'],\n",
              "        num_rows: 4358\n",
              "    })\n",
              "    train: Dataset({\n",
              "        features: ['text'],\n",
              "        num_rows: 36718\n",
              "    })\n",
              "    validation: Dataset({\n",
              "        features: ['text'],\n",
              "        num_rows: 3760\n",
              "    })\n",
              "})"
            ]
          },
          "metadata": {},
          "execution_count": 148
        }
      ]
    },
    {
      "cell_type": "code",
      "source": [
        "model_checkpoint = \"gpt2\"\n",
        "tokenizer_checkpoint = \"sgugger/gpt2-like-tokenizer\""
      ],
      "metadata": {
        "id": "K6O1FtPJlPHp"
      },
      "execution_count": null,
      "outputs": []
    },
    {
      "cell_type": "code",
      "source": [
        "# Loading tokenizer\n",
        "tokenizer = AutoTokenizer.from_pretrained(tokenizer_checkpoint)\n",
        "\n",
        "def tokenize_function(examples):\n",
        "    return tokenizer(examples[\"text\"])\n",
        "\n",
        "tokenized_datasets = datasets.map(tokenize_function, batched=True, num_proc=4, remove_columns=[\"text\"])"
      ],
      "metadata": {
        "id": "qS4DnDznlZej"
      },
      "execution_count": null,
      "outputs": []
    },
    {
      "cell_type": "code",
      "source": [
        "tokenized_datasets[\"train\"][1]"
      ],
      "metadata": {
        "colab": {
          "base_uri": "https://localhost:8080/"
        },
        "id": "JtFGt6O3luNm",
        "outputId": "83e15d16-ccd1-41cb-845e-aff053a9cb55"
      },
      "execution_count": null,
      "outputs": [
        {
          "output_type": "execute_result",
          "data": {
            "text/plain": [
              "{'input_ids': [238, 8576, 9441, 2987, 238, 252],\n",
              " 'attention_mask': [1, 1, 1, 1, 1, 1]}"
            ]
          },
          "metadata": {},
          "execution_count": 151
        }
      ]
    },
    {
      "cell_type": "code",
      "source": [
        "datasets[\"train\"][1]"
      ],
      "metadata": {
        "colab": {
          "base_uri": "https://localhost:8080/"
        },
        "id": "Y5bA6bNQkKv4",
        "outputId": "fef0b785-74fb-41e9-c0a2-a4d8940c9ae4"
      },
      "execution_count": null,
      "outputs": [
        {
          "output_type": "execute_result",
          "data": {
            "text/plain": [
              "{'text': ' = Valkyria Chronicles III = \\n'}"
            ]
          },
          "metadata": {},
          "execution_count": 157
        }
      ]
    },
    {
      "cell_type": "code",
      "source": [
        "# block_size = tokenizer.model_max_length\n",
        "block_size = 128\n",
        "\n",
        "def group_texts(examples):\n",
        "    # Concatenate all texts.\n",
        "    concatenated_examples = {k: sum(examples[k], []) for k in examples.keys()}\n",
        "    total_length = len(concatenated_examples[list(examples.keys())[0]])\n",
        "    # We drop the small remainder, we could add padding if the model supported it instead of this drop, you can\n",
        "        # customize this part to your needs.\n",
        "    total_length = (total_length // block_size) * block_size\n",
        "    # Split by chunks of max_len.\n",
        "    result = {\n",
        "        k: [t[i : i + block_size] for i in range(0, total_length, block_size)]\n",
        "        for k, t in concatenated_examples.items()\n",
        "    }\n",
        "    result[\"labels\"] = result[\"input_ids\"].copy()\n",
        "    return result"
      ],
      "metadata": {
        "id": "GPoD-hpul_rx"
      },
      "execution_count": null,
      "outputs": []
    },
    {
      "cell_type": "code",
      "source": [
        "lm_datasets = tokenized_datasets.map(\n",
        "    group_texts,\n",
        "    batched=True,\n",
        "    batch_size=1000,\n",
        "    num_proc=4,\n",
        ")"
      ],
      "metadata": {
        "id": "pkU9XhLKmERK"
      },
      "execution_count": null,
      "outputs": []
    },
    {
      "cell_type": "code",
      "source": [
        "lm_datasets"
      ],
      "metadata": {
        "colab": {
          "base_uri": "https://localhost:8080/"
        },
        "id": "ylxeMoC8Gnel",
        "outputId": "e412a1d0-a84b-4007-a1e6-a1f93ed44b0f"
      },
      "execution_count": null,
      "outputs": [
        {
          "output_type": "execute_result",
          "data": {
            "text/plain": [
              "DatasetDict({\n",
              "    test: Dataset({\n",
              "        features: ['input_ids', 'attention_mask', 'labels'],\n",
              "        num_rows: 2202\n",
              "    })\n",
              "    train: Dataset({\n",
              "        features: ['input_ids', 'attention_mask', 'labels'],\n",
              "        num_rows: 17991\n",
              "    })\n",
              "    validation: Dataset({\n",
              "        features: ['input_ids', 'attention_mask', 'labels'],\n",
              "        num_rows: 1934\n",
              "    })\n",
              "})"
            ]
          },
          "metadata": {},
          "execution_count": 154
        }
      ]
    },
    {
      "cell_type": "code",
      "source": [
        "# Load pretrained model\n",
        "config = AutoConfig.from_pretrained(model_checkpoint)\n",
        "model = AutoModelForCausalLM.from_config(config)"
      ],
      "metadata": {
        "colab": {
          "base_uri": "https://localhost:8080/",
          "height": 49,
          "referenced_widgets": [
            "b4608c1594834dfea80b2a0490c38559",
            "638eb4b54d5248d8a8519ba4353f61db",
            "b7eb24aa6eaf4e289154d2d274853ecc",
            "5687072d6558461fa8bb4bf3659b9321",
            "38a732922ec84097b86aa8c441da01ca",
            "2044ed6b228e43f89ebaf04d51c3e3e0",
            "9503bc614f994f68a4732b6219192a77",
            "3a8d4cdbc550469981ca0e1596dc1630",
            "2694cb6805224d43a9236a8773153f20",
            "e93728adfb0044dbb2f168cfbf471096",
            "48f227b980614ed186769abd80ab7bec"
          ]
        },
        "id": "inmMM_TumH_2",
        "outputId": "109203a1-7075-4665-cde1-79ac1f42f52d"
      },
      "execution_count": null,
      "outputs": [
        {
          "output_type": "display_data",
          "data": {
            "text/plain": [
              "Downloading (…)lve/main/config.json:   0%|          | 0.00/665 [00:00<?, ?B/s]"
            ],
            "application/vnd.jupyter.widget-view+json": {
              "version_major": 2,
              "version_minor": 0,
              "model_id": "b4608c1594834dfea80b2a0490c38559"
            }
          },
          "metadata": {}
        }
      ]
    },
    {
      "cell_type": "code",
      "source": [
        "# Setting hyperparameters for training\n",
        "training_args = TrainingArguments(\n",
        "    f\"{model_checkpoint}-wikitext2\",\n",
        "    evaluation_strategy = \"epoch\",\n",
        "    learning_rate=2e-5,\n",
        "    weight_decay=0.01\n",
        ")"
      ],
      "metadata": {
        "id": "ws18KLO0mUjR"
      },
      "execution_count": null,
      "outputs": []
    },
    {
      "cell_type": "code",
      "source": [
        "trainer = Trainer(\n",
        "    model=model,\n",
        "    args=training_args,\n",
        "    train_dataset=lm_datasets[\"train\"],\n",
        "    eval_dataset=lm_datasets[\"validation\"],\n",
        ")"
      ],
      "metadata": {
        "id": "1T2o8g4UmdEH"
      },
      "execution_count": null,
      "outputs": []
    },
    {
      "cell_type": "code",
      "source": [
        "trainer.train()"
      ],
      "metadata": {
        "colab": {
          "base_uri": "https://localhost:8080/",
          "height": 276
        },
        "id": "TzbqYm35nIb4",
        "outputId": "4b6a79c2-cfec-4340-f950-db0d60079427"
      },
      "execution_count": null,
      "outputs": [
        {
          "output_type": "stream",
          "name": "stderr",
          "text": [
            "/usr/local/lib/python3.10/dist-packages/transformers/optimization.py:411: FutureWarning: This implementation of AdamW is deprecated and will be removed in a future version. Use the PyTorch implementation torch.optim.AdamW instead, or set `no_deprecation_warning=True` to disable this warning\n",
            "  warnings.warn(\n"
          ]
        },
        {
          "output_type": "display_data",
          "data": {
            "text/plain": [
              "<IPython.core.display.HTML object>"
            ],
            "text/html": [
              "\n",
              "    <div>\n",
              "      \n",
              "      <progress value='6747' max='6747' style='width:300px; height:20px; vertical-align: middle;'></progress>\n",
              "      [6747/6747 42:52, Epoch 3/3]\n",
              "    </div>\n",
              "    <table border=\"1\" class=\"dataframe\">\n",
              "  <thead>\n",
              " <tr style=\"text-align: left;\">\n",
              "      <th>Epoch</th>\n",
              "      <th>Training Loss</th>\n",
              "      <th>Validation Loss</th>\n",
              "    </tr>\n",
              "  </thead>\n",
              "  <tbody>\n",
              "    <tr>\n",
              "      <td>1</td>\n",
              "      <td>6.552900</td>\n",
              "      <td>6.477514</td>\n",
              "    </tr>\n",
              "    <tr>\n",
              "      <td>2</td>\n",
              "      <td>6.197200</td>\n",
              "      <td>6.206111</td>\n",
              "    </tr>\n",
              "    <tr>\n",
              "      <td>3</td>\n",
              "      <td>6.022000</td>\n",
              "      <td>6.118332</td>\n",
              "    </tr>\n",
              "  </tbody>\n",
              "</table><p>"
            ]
          },
          "metadata": {}
        },
        {
          "output_type": "execute_result",
          "data": {
            "text/plain": [
              "TrainOutput(global_step=6747, training_loss=6.396705302906616, metrics={'train_runtime': 2573.1861, 'train_samples_per_second': 20.975, 'train_steps_per_second': 2.622, 'total_flos': 3525678710784000.0, 'train_loss': 6.396705302906616, 'epoch': 3.0})"
            ]
          },
          "metadata": {},
          "execution_count": 16
        }
      ]
    },
    {
      "cell_type": "code",
      "source": [
        "import math\n",
        "eval_results = trainer.evaluate()\n",
        "print(f\"Perplexity: {math.exp(eval_results['eval_loss']):.2f}\")"
      ],
      "metadata": {
        "colab": {
          "base_uri": "https://localhost:8080/",
          "height": 55
        },
        "id": "sbME0geMnS4x",
        "outputId": "eb3e02ae-cdf8-4087-85fc-8e1b0003a098"
      },
      "execution_count": null,
      "outputs": [
        {
          "output_type": "display_data",
          "data": {
            "text/plain": [
              "<IPython.core.display.HTML object>"
            ],
            "text/html": [
              "\n",
              "    <div>\n",
              "      \n",
              "      <progress value='242' max='242' style='width:300px; height:20px; vertical-align: middle;'></progress>\n",
              "      [242/242 00:23]\n",
              "    </div>\n",
              "    "
            ]
          },
          "metadata": {}
        },
        {
          "output_type": "stream",
          "name": "stdout",
          "text": [
            "Perplexity: 454.11\n"
          ]
        }
      ]
    },
    {
      "cell_type": "markdown",
      "source": [
        "## Resources for finetuning\n",
        "\n",
        "Finetuning with huggingface: https://github.com/huggingface/transformers/tree/main/notebooks"
      ],
      "metadata": {
        "id": "IAxWUXpmnWMy"
      }
    },
    {
      "cell_type": "code",
      "source": [],
      "metadata": {
        "id": "5tTGWAkEniRz"
      },
      "execution_count": null,
      "outputs": []
    }
  ]
}